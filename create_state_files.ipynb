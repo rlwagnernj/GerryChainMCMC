{
 "metadata": {
  "language_info": {
   "codemirror_mode": {
    "name": "ipython",
    "version": 3
   },
   "file_extension": ".py",
   "mimetype": "text/x-python",
   "name": "python",
   "nbconvert_exporter": "python",
   "pygments_lexer": "ipython3",
   "version": "3.10.6-final"
  },
  "orig_nbformat": 2,
  "kernelspec": {
   "name": "python3",
   "display_name": "Python 3.10.6 64-bit ('gerry': conda)",
   "metadata": {
    "interpreter": {
     "hash": "57a52c33c8b4d487a8f48da2f7fd8584b95502494c696b1d14b96b58826bff58"
    }
   }
  }
 },
 "nbformat": 4,
 "nbformat_minor": 2,
 "cells": [
  {
   "cell_type": "code",
   "execution_count": 1,
   "metadata": {},
   "outputs": [],
   "source": [
    "import csv \n",
    "import pandas as pd"
   ]
  },
  {
   "cell_type": "code",
   "execution_count": 2,
   "metadata": {},
   "outputs": [],
   "source": [
    "fips = pd.read_csv('/Users/rebeccawagner/Documents/GitHub/GerryGainMCMC/state_fips.csv', dtype=str)\n",
    "fips_dict = dict(zip(fips.FIPS, fips.Abreviation))"
   ]
  },
  {
   "source": [
    "with open('/Users/rebeccawagner/Documents/GitHub/GerryGainMCMC/local_environments_US.csv', 'r') as le_file:\n",
    "    \n",
    "    reader = csv.reader(le_file)\n",
    "    next(reader)\n",
    "\n",
    "    cur_fips = '01'\n",
    "    abrv = fips_dict[cur_fips]\n",
    "\n",
    "    path_name = '/Users/rebeccawagner/Desktop/state_environs/' + abrv +'_LE'\n",
    "\n",
    "    state_file = open(path_name, 'w')\n",
    "\n",
    "    for row in reader:\n",
    "\n",
    "        fips = row[0][:2]\n",
    "\n",
    "        if fips == cur_fips:\n",
    "            writer = csv.writer(state_file)\n",
    "            writer.writerow(row)\n",
    "\n",
    "        else:\n",
    "\n",
    "            state_file.close()\n",
    "            \n",
    "            cur_fips = fips\n",
    "            abrv = fips_dict[cur_fips]\n",
    "            path_name = '/Users/rebeccawagner/Desktop/state_environs/' + abrv +'_LE'\n",
    "\n",
    "            state_file = open(path_name, 'w')\n",
    "\n"
   ],
   "cell_type": "code",
   "metadata": {
    "tags": []
   },
   "execution_count": 3,
   "outputs": []
  },
  {
   "cell_type": "code",
   "execution_count": null,
   "metadata": {},
   "outputs": [],
   "source": []
  }
 ]
}