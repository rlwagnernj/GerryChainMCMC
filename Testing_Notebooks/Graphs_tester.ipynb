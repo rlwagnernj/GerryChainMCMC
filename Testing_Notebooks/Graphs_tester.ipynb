{
 "cells": [
  {
   "cell_type": "code",
   "execution_count": 3,
   "id": "899b0620-c509-45d5-a278-5110ded09b43",
   "metadata": {},
   "outputs": [],
   "source": [
    "import pandas as pd\n",
    "import numpy as np\n",
    "import matplotlib.pyplot as plt\n",
    "import seaborn as sns\n",
    "from datetime import datetime as dt\n",
    "import matplotlib.cbook as cbook"
   ]
  },
  {
   "cell_type": "markdown",
   "id": "af52a013-e935-4386-89ef-25066ffeea01",
   "metadata": {},
   "source": [
    "### Most of my tunable parameters are up here"
   ]
  },
  {
   "cell_type": "code",
   "execution_count": 4,
   "id": "a24f9ed5-1161-4783-bd39-aaf1f06d4048",
   "metadata": {},
   "outputs": [],
   "source": [
    "## Simulation Settings =================\n",
    "\n",
    "# Number of districts\n",
    "n_dists = 10\n",
    "\n",
    "# Number of trials\n",
    "n_trials = 10000\n",
    "\n",
    "# A distribution of percent minority per district\n",
    "#  (for each trial, some random normal noise is added to them.  Not meant to mimic the actual data)\n",
    "# (with these settings the mean will be 0.3/(1+0.3) = 0.23 and heavily skewed towards 0)\n",
    "pct_dist = np.random.beta(a=0.3,b=1,size=(n_dists,))\n",
    "\n",
    "\n",
    "\n",
    "## Boxplot Settings ====================\n",
    "\n",
    "# Number of iterations to compare for each set of boxes\n",
    "#steps = [100, 1000, 10000]\n",
    "n_steps = 4\n",
    "steps = np.logspace(2, np.log10(n_trials), n_steps).astype(int)\n",
    "steps[-1] = n_trials\n",
    "\n",
    "\n",
    "# Settings for whiskers\n",
    "\n",
    "# Default - 1.5 of IQR\n",
    "whis = 1.5\n",
    "\n",
    "# 1st and 99th percentiles\n",
    "#whis = [1, 99]\n",
    "\n",
    "# Min and max\n",
    "#whis = [0, 100]\n",
    "\n",
    "# Boxplot properties\n",
    "#      more examples: https://matplotlib.org/3.1.1/gallery/statistics/boxplot.html\n",
    "\n",
    "flierprops = dict(marker='.', \n",
    "                  markersize=0) # Setting to 0 turns fliers off\n",
    "\n",
    "medianprops = dict(linestyle='-',\n",
    "                   color='k')\n",
    "\n",
    "boxprops = dict(color='k')\n",
    "\n",
    "## KDE settings\n",
    "\n",
    "# Have the opportunity to get more granular here\n",
    "n_steps_kde = 10\n",
    "kde_steps = np.logspace(2, np.log10(n_trials), n_steps_kde).astype(int)\n",
    "kde_steps[-1] = n_trials"
   ]
  },
  {
   "cell_type": "markdown",
   "id": "6796354f-0b87-40bc-8908-804eb9446311",
   "metadata": {},
   "source": [
    "### Simulate results per district - just defining some arbitrary marginal distributions and pulling from those"
   ]
  },
  {
   "cell_type": "code",
   "execution_count": 3,
   "id": "97168f89-9d65-4c41-a0a3-b84722ce3b0d",
   "metadata": {},
   "outputs": [
    {
     "name": "stderr",
     "output_type": "stream",
     "text": [
      "/tmp/ipykernel_256/2358519421.py:12: FutureWarning: In a future version, `df.iloc[:, i] = newvals` will attempt to set the values inplace instead of always setting a new array. To retain the old behavior, use either `df[df.columns[i]] = newvals` or, if columns are non-unique, `df.isetitem(i, newvals)`\n",
      "  results.iloc[:,t] = pct_trial\n"
     ]
    },
    {
     "name": "stdout",
     "output_type": "stream",
     "text": [
      "0:00:06.410508 sec(s) to create\n"
     ]
    }
   ],
   "source": [
    "# Row and column names\n",
    "row_names = ['District' + str(d+1) for d in range(n_dists)]\n",
    "col_names = ['Trial' + str(i+1) for i in range(n_trials)]\n",
    "\n",
    "# Dataframe to store results\n",
    "results = pd.DataFrame(index=row_names, columns=col_names)\n",
    "\n",
    "t0 = dt.now()\n",
    "for t in range(n_trials):\n",
    "    pct_trial = np.random.normal(loc=pct_dist, scale=0.05)\n",
    "    pct_trial = np.minimum(np.maximum(pct_trial, 0),1)\n",
    "    results.iloc[:,t] = pct_trial\n",
    "print(dt.now()-t0, 'sec(s) to create')"
   ]
  },
  {
   "cell_type": "code",
   "execution_count": 4,
   "id": "bd00b5f6-6bee-4574-8eaa-5f6c12788089",
   "metadata": {},
   "outputs": [
    {
     "data": {
      "text/html": [
       "<div>\n",
       "<style scoped>\n",
       "    .dataframe tbody tr th:only-of-type {\n",
       "        vertical-align: middle;\n",
       "    }\n",
       "\n",
       "    .dataframe tbody tr th {\n",
       "        vertical-align: top;\n",
       "    }\n",
       "\n",
       "    .dataframe thead th {\n",
       "        text-align: right;\n",
       "    }\n",
       "</style>\n",
       "<table border=\"1\" class=\"dataframe\">\n",
       "  <thead>\n",
       "    <tr style=\"text-align: right;\">\n",
       "      <th></th>\n",
       "      <th>Trial1</th>\n",
       "      <th>Trial2</th>\n",
       "      <th>Trial3</th>\n",
       "      <th>Trial4</th>\n",
       "      <th>Trial5</th>\n",
       "      <th>Trial6</th>\n",
       "      <th>Trial7</th>\n",
       "      <th>Trial8</th>\n",
       "      <th>Trial9</th>\n",
       "      <th>Trial10</th>\n",
       "      <th>...</th>\n",
       "      <th>Trial9991</th>\n",
       "      <th>Trial9992</th>\n",
       "      <th>Trial9993</th>\n",
       "      <th>Trial9994</th>\n",
       "      <th>Trial9995</th>\n",
       "      <th>Trial9996</th>\n",
       "      <th>Trial9997</th>\n",
       "      <th>Trial9998</th>\n",
       "      <th>Trial9999</th>\n",
       "      <th>Trial10000</th>\n",
       "    </tr>\n",
       "  </thead>\n",
       "  <tbody>\n",
       "    <tr>\n",
       "      <th>District1</th>\n",
       "      <td>0.121402</td>\n",
       "      <td>0.000000</td>\n",
       "      <td>0.071116</td>\n",
       "      <td>0.112845</td>\n",
       "      <td>0.141113</td>\n",
       "      <td>0.089120</td>\n",
       "      <td>0.043105</td>\n",
       "      <td>0.091856</td>\n",
       "      <td>0.144743</td>\n",
       "      <td>0.067919</td>\n",
       "      <td>...</td>\n",
       "      <td>0.049069</td>\n",
       "      <td>0.000000</td>\n",
       "      <td>0.024221</td>\n",
       "      <td>0.011154</td>\n",
       "      <td>0.062450</td>\n",
       "      <td>0.014012</td>\n",
       "      <td>0.07243</td>\n",
       "      <td>0.028851</td>\n",
       "      <td>0.000000</td>\n",
       "      <td>0.057549</td>\n",
       "    </tr>\n",
       "    <tr>\n",
       "      <th>District2</th>\n",
       "      <td>0.290987</td>\n",
       "      <td>0.350946</td>\n",
       "      <td>0.302368</td>\n",
       "      <td>0.315174</td>\n",
       "      <td>0.264379</td>\n",
       "      <td>0.236785</td>\n",
       "      <td>0.257886</td>\n",
       "      <td>0.273272</td>\n",
       "      <td>0.333383</td>\n",
       "      <td>0.300733</td>\n",
       "      <td>...</td>\n",
       "      <td>0.299149</td>\n",
       "      <td>0.269273</td>\n",
       "      <td>0.276762</td>\n",
       "      <td>0.284329</td>\n",
       "      <td>0.337529</td>\n",
       "      <td>0.387179</td>\n",
       "      <td>0.30600</td>\n",
       "      <td>0.285730</td>\n",
       "      <td>0.402543</td>\n",
       "      <td>0.317458</td>\n",
       "    </tr>\n",
       "  </tbody>\n",
       "</table>\n",
       "<p>2 rows × 10000 columns</p>\n",
       "</div>"
      ],
      "text/plain": [
       "             Trial1    Trial2    Trial3    Trial4    Trial5    Trial6  \\\n",
       "District1  0.121402  0.000000  0.071116  0.112845  0.141113  0.089120   \n",
       "District2  0.290987  0.350946  0.302368  0.315174  0.264379  0.236785   \n",
       "\n",
       "             Trial7    Trial8    Trial9   Trial10  ...  Trial9991  Trial9992  \\\n",
       "District1  0.043105  0.091856  0.144743  0.067919  ...   0.049069   0.000000   \n",
       "District2  0.257886  0.273272  0.333383  0.300733  ...   0.299149   0.269273   \n",
       "\n",
       "           Trial9993  Trial9994  Trial9995  Trial9996  Trial9997  Trial9998  \\\n",
       "District1   0.024221   0.011154   0.062450   0.014012    0.07243   0.028851   \n",
       "District2   0.276762   0.284329   0.337529   0.387179    0.30600   0.285730   \n",
       "\n",
       "           Trial9999  Trial10000  \n",
       "District1   0.000000    0.057549  \n",
       "District2   0.402543    0.317458  \n",
       "\n",
       "[2 rows x 10000 columns]"
      ]
     },
     "execution_count": 4,
     "metadata": {},
     "output_type": "execute_result"
    }
   ],
   "source": [
    "# Preview results\n",
    "results.head(2)"
   ]
  },
  {
   "cell_type": "code",
   "execution_count": 5,
   "id": "0cdd5771-74c1-42c4-9200-e91478c88287",
   "metadata": {},
   "outputs": [],
   "source": [
    "# Sort by mean bva over all simulation results (visual aid for plotting)\n",
    "results = results.assign(m=results.mean(axis=1)).sort_values('m').drop('m', axis=1)"
   ]
  },
  {
   "cell_type": "code",
   "execution_count": 6,
   "id": "04052f83-8368-43c9-b32b-98f183e1652a",
   "metadata": {},
   "outputs": [
    {
     "data": {
      "text/html": [
       "<div>\n",
       "<style scoped>\n",
       "    .dataframe tbody tr th:only-of-type {\n",
       "        vertical-align: middle;\n",
       "    }\n",
       "\n",
       "    .dataframe tbody tr th {\n",
       "        vertical-align: top;\n",
       "    }\n",
       "\n",
       "    .dataframe thead th {\n",
       "        text-align: right;\n",
       "    }\n",
       "</style>\n",
       "<table border=\"1\" class=\"dataframe\">\n",
       "  <thead>\n",
       "    <tr style=\"text-align: right;\">\n",
       "      <th></th>\n",
       "      <th>Trial1</th>\n",
       "      <th>Trial2</th>\n",
       "      <th>Trial3</th>\n",
       "      <th>Trial4</th>\n",
       "      <th>Trial5</th>\n",
       "    </tr>\n",
       "  </thead>\n",
       "  <tbody>\n",
       "    <tr>\n",
       "      <th>District6</th>\n",
       "      <td>0.000000</td>\n",
       "      <td>0.000000</td>\n",
       "      <td>0.000000</td>\n",
       "      <td>0.009183</td>\n",
       "      <td>0.000000</td>\n",
       "    </tr>\n",
       "    <tr>\n",
       "      <th>District5</th>\n",
       "      <td>0.009396</td>\n",
       "      <td>0.000000</td>\n",
       "      <td>0.000000</td>\n",
       "      <td>0.000000</td>\n",
       "      <td>0.005175</td>\n",
       "    </tr>\n",
       "    <tr>\n",
       "      <th>District4</th>\n",
       "      <td>0.000000</td>\n",
       "      <td>0.034148</td>\n",
       "      <td>0.000000</td>\n",
       "      <td>0.087529</td>\n",
       "      <td>0.000000</td>\n",
       "    </tr>\n",
       "    <tr>\n",
       "      <th>District3</th>\n",
       "      <td>0.021711</td>\n",
       "      <td>0.000000</td>\n",
       "      <td>0.067003</td>\n",
       "      <td>0.145239</td>\n",
       "      <td>0.000000</td>\n",
       "    </tr>\n",
       "    <tr>\n",
       "      <th>District1</th>\n",
       "      <td>0.121402</td>\n",
       "      <td>0.000000</td>\n",
       "      <td>0.071116</td>\n",
       "      <td>0.112845</td>\n",
       "      <td>0.141113</td>\n",
       "    </tr>\n",
       "    <tr>\n",
       "      <th>District7</th>\n",
       "      <td>0.080517</td>\n",
       "      <td>0.038291</td>\n",
       "      <td>0.000000</td>\n",
       "      <td>0.082832</td>\n",
       "      <td>0.071620</td>\n",
       "    </tr>\n",
       "    <tr>\n",
       "      <th>District2</th>\n",
       "      <td>0.290987</td>\n",
       "      <td>0.350946</td>\n",
       "      <td>0.302368</td>\n",
       "      <td>0.315174</td>\n",
       "      <td>0.264379</td>\n",
       "    </tr>\n",
       "    <tr>\n",
       "      <th>District9</th>\n",
       "      <td>0.424242</td>\n",
       "      <td>0.401201</td>\n",
       "      <td>0.500241</td>\n",
       "      <td>0.432935</td>\n",
       "      <td>0.555413</td>\n",
       "    </tr>\n",
       "    <tr>\n",
       "      <th>District8</th>\n",
       "      <td>0.472023</td>\n",
       "      <td>0.483505</td>\n",
       "      <td>0.427114</td>\n",
       "      <td>0.379949</td>\n",
       "      <td>0.454487</td>\n",
       "    </tr>\n",
       "    <tr>\n",
       "      <th>District10</th>\n",
       "      <td>0.846235</td>\n",
       "      <td>0.811939</td>\n",
       "      <td>0.787541</td>\n",
       "      <td>0.802121</td>\n",
       "      <td>0.805466</td>\n",
       "    </tr>\n",
       "  </tbody>\n",
       "</table>\n",
       "</div>"
      ],
      "text/plain": [
       "              Trial1    Trial2    Trial3    Trial4    Trial5\n",
       "District6   0.000000  0.000000  0.000000  0.009183  0.000000\n",
       "District5   0.009396  0.000000  0.000000  0.000000  0.005175\n",
       "District4   0.000000  0.034148  0.000000  0.087529  0.000000\n",
       "District3   0.021711  0.000000  0.067003  0.145239  0.000000\n",
       "District1   0.121402  0.000000  0.071116  0.112845  0.141113\n",
       "District7   0.080517  0.038291  0.000000  0.082832  0.071620\n",
       "District2   0.290987  0.350946  0.302368  0.315174  0.264379\n",
       "District9   0.424242  0.401201  0.500241  0.432935  0.555413\n",
       "District8   0.472023  0.483505  0.427114  0.379949  0.454487\n",
       "District10  0.846235  0.811939  0.787541  0.802121  0.805466"
      ]
     },
     "execution_count": 6,
     "metadata": {},
     "output_type": "execute_result"
    }
   ],
   "source": [
    "# check first few trials\n",
    "results.iloc[:,0:5]"
   ]
  },
  {
   "cell_type": "code",
   "execution_count": 7,
   "id": "e7e4decd-0a51-4685-aeb5-5e0064b0f09b",
   "metadata": {},
   "outputs": [
    {
     "name": "stdout",
     "output_type": "stream",
     "text": [
      "0:00:00.024467 sec(s) to compute boxplot stats\n"
     ]
    }
   ],
   "source": [
    "# Compute statistics for the boxplots, for each subset of data\n",
    "#   documentation for this approach: https://matplotlib.org/stable/gallery/statistics/bxp.html\n",
    "\n",
    "t0 = dt.now()\n",
    "stats = []\n",
    "for s in steps:\n",
    "    stats.append(cbook.boxplot_stats(results.iloc[:,0:int(s)].T, whis = whis))\n",
    "print(dt.now()-t0, 'sec(s) to compute boxplot stats')"
   ]
  },
  {
   "cell_type": "markdown",
   "id": "ee59510b-a80b-4b82-a635-e633b1181761",
   "metadata": {},
   "source": [
    "### Figure A"
   ]
  },
  {
   "cell_type": "code",
   "execution_count": 8,
   "id": "1da630b9-cabc-4699-8d6e-509382b051b2",
   "metadata": {},
   "outputs": [
    {
     "name": "stdout",
     "output_type": "stream",
     "text": [
      "Iterations in each bar: [  100   464  2154 10000]\n"
     ]
    },
    {
     "data": {
      "image/png": "[encoded data removed]",
      "text/plain": [
       "<Figure size 1200x600 with 1 Axes>"
      ]
     },
     "metadata": {},
     "output_type": "display_data"
    }
   ],
   "source": [
    "# Positions for the boxes. Skip 1 position every district for visual grouping\n",
    "pos = np.arange(0, n_dists)\n",
    "box_pos = len(steps)*pos + 1\n",
    "box_pos += range(len(box_pos))\n",
    "\n",
    "# Position for the x-axis tick labels (in the middle of each districts group of boxes)\n",
    "tick_pos = box_pos + (len(steps)+1)/2 - 1\n",
    "\n",
    "\n",
    "fig, ax = plt.subplots(figsize=(12,6))\n",
    "# Looping over each subset of data (e.g, 100 trials, 1000 trials, etc.)\n",
    "for i,s in enumerate(steps):\n",
    "    data = stats[i]\n",
    "    # Create the boxplots\n",
    "    ax.bxp(data, positions = box_pos+i, \n",
    "           widths=0.5,\n",
    "           boxprops = boxprops,\n",
    "           flierprops = flierprops,\n",
    "           medianprops = medianprops\n",
    "          )\n",
    "print('Iterations in each bar:', steps)\n",
    "plt.xticks(tick_pos, list(results.index), rotation=0)\n",
    "plt.ylabel('Segregation metric name')\n",
    "plt.show()"
   ]
  },
  {
   "cell_type": "markdown",
   "id": "d9293d5f-f723-4c66-875c-d374d672a954",
   "metadata": {},
   "source": [
    "### Figure B"
   ]
  },
  {
   "cell_type": "code",
   "execution_count": 9,
   "id": "f016dbd0-1822-42ed-8f4f-6c2a5c742b3e",
   "metadata": {},
   "outputs": [
    {
     "data": {
      "image/png": "[encoded data removed]",
      "text/plain": [
       "<Figure size 800x800 with 1 Axes>"
      ]
     },
     "metadata": {},
     "output_type": "display_data"
    },
    {
     "name": "stdout",
     "output_type": "stream",
     "text": [
      "Number of steps in each curve: [  100   166   278   464   774  1291  2154  3593  5994 10000]\n"
     ]
    }
   ],
   "source": [
    "# Showing convergence for individual districts as overlaid cumulative KDE plots\n",
    "ex_dist = 'District1'\n",
    "temp = results.loc[ex_dist]\n",
    "\n",
    "\n",
    "alphas = np.linspace(0.5, 1, len(kde_steps))\n",
    "plt.figure(figsize=(8,8))\n",
    "for i,s in enumerate(kde_steps):\n",
    "    \n",
    "    # Show smaller samples as thin blue dotted with varying alpha\n",
    "    # Show final two as dotted black and dotted red, thick\n",
    "    \n",
    "    if i == (len(kde_steps)-1):\n",
    "        linestyle=':'\n",
    "        color = 'r'\n",
    "        linewidth = 2\n",
    "        alpha = 1\n",
    "    elif i == (len(kde_steps)-2):\n",
    "        linestyle=':'\n",
    "        color = 'k'\n",
    "        linewidth = 2\n",
    "        alpha = 1\n",
    "    else:\n",
    "        linestyle=':'\n",
    "        color = 'b'\n",
    "        linewidth = 1\n",
    "        alpha = alphas[i]\n",
    "\n",
    "    sns.kdeplot(temp[0:s], \n",
    "                color = color, \n",
    "                alpha = alpha, \n",
    "                linestyle = linestyle,\n",
    "                linewidth = linewidth, \n",
    "                cumulative=True)\n",
    "\n",
    "plt.ylabel('Cumulative density')\n",
    "plt.xlabel('Segregation metric for ' + ex_dist)\n",
    "plt.show()\n",
    "\n",
    "print('Number of steps in each curve:', kde_steps)"
   ]
  },
  {
   "cell_type": "code",
   "execution_count": null,
   "id": "77bf7591-45c1-4497-aeb2-c7b53bf40cdb",
   "metadata": {},
   "outputs": [],
   "source": [
    "fig1, ax1 = plt.subplots(figsize=(10,10))\n",
    "\n",
    "#ax1.hist(seg_data.iloc[:,:1000].stack().values, bins=500, rwidth=1, alpha=.3, color=\"b\", label=\"all\", density=True)\n",
    "pd.DataFrame(seg_data.iloc[:,:10000].stack().values).plot(kind='density', ax=ax1, color=\"cornflowerblue\",legend=False)\n",
    "\n",
    "#x1.hist(seg_data.iloc[:,:5000].stack().values, bins=500, rwidth=1, alpha=.3, color=\"red\", label=\"all\", density=True)\n",
    "pd.DataFrame(seg_data.iloc[:,:50000].stack().values).plot(kind='density', ax=ax1, color=\"teal\",legend=False)\n",
    "\n",
    "#ax1.hist(seg_data.iloc[:,:7500].stack().values, bins=500, rwidth=1, alpha=.3, color=\"green\", label=\"all\", density=True)\n",
    "pd.DataFrame(seg_data.iloc[:,:75000].stack().values).plot(kind='density', ax=ax1, color=\"red\",legend=False)\n",
    "\n",
    "#ax1.hist(seg_data.iloc[:,:7500].stack().values, bins=500, rwidth=1, alpha=.3, color=\"green\", label=\"all\", density=True)\n",
    "pd.DataFrame(seg_data.iloc[:,:95000].stack().values).plot(kind='density', ax=ax1, color=\"darkorange\",legend=False)\n",
    "\n",
    "#ax1.hist(seg_data.stack().values, bins=500, rwidth=1, alpha=.3, color=\"purple\", label=\"all\", density=True)\n",
    "pd.DataFrame(seg_data.stack().values).plot(kind='density', ax=ax1, color=\"rebeccapurple\",legend=False)\n",
    "\n",
    "plt.legend(labels=[\"10,000 Iterations\", \"50,000 Iterations\", \"75,000 Iterations\", \"95,000 Iterations\", \"100,000 Iterations\"],\n",
    "            prop={'size':12})\n",
    "ax1.set_xlabel(\"Segregation Score\", fontsize=12)\n",
    "ax1.set_ylabel(\"Frequency\", fontsize=12)\n",
    "ax1.set_yticks([])\n",
    "\n",
    "plt.savefig(\"line_compare\")\n",
    "plt.show()"
   ]
  },
  {
   "cell_type": "code",
   "execution_count": 1,
   "id": "ac6fd91c",
   "metadata": {},
   "outputs": [
    {
     "ename": "NameError",
     "evalue": "name 'steps' is not defined",
     "output_type": "error",
     "traceback": [
      "\u001b[0;31m---------------------------------------------------------------------------\u001b[0m",
      "\u001b[0;31mNameError\u001b[0m                                 Traceback (most recent call last)",
      "Cell \u001b[0;32mIn [1], line 1\u001b[0m\n\u001b[0;32m----> 1\u001b[0m steps\n",
      "\u001b[0;31mNameError\u001b[0m: name 'steps' is not defined"
     ]
    }
   ],
   "source": [
    "steps"
   ]
  },
  {
   "cell_type": "code",
   "execution_count": null,
   "id": "6dd5a8dd",
   "metadata": {},
   "outputs": [],
   "source": []
  }
 ],
 "metadata": {
  "kernelspec": {
   "display_name": "gerry",
   "language": "python",
   "name": "python3"
  },
  "language_info": {
   "codemirror_mode": {
    "name": "ipython",
    "version": 3
   },
   "file_extension": ".py",
   "mimetype": "text/x-python",
   "name": "python",
   "nbconvert_exporter": "python",
   "pygments_lexer": "ipython3",
   "version": "3.10.6 | packaged by conda-forge | (main, Aug 22 2022, 20:43:44) [Clang 13.0.1 ]"
  },
  "vscode": {
   "interpreter": {
    "hash": "490c0a39a4dd3df29f486b863cd658d9baeb3f977e83207532ec1f0044a62912"
   }
  }
 },
 "nbformat": 4,
 "nbformat_minor": 5
}
