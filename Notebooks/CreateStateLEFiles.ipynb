{
 "cells": [
  {
   "cell_type": "code",
   "execution_count": 1,
   "metadata": {},
   "outputs": [],
   "source": [
    "import csv \n",
    "import pandas as pd\n",
    "\n",
    "# This file was used to create local enviornment data for each state in separate files. See the \"Block Local Environments by State\" directory"
   ]
  },
  {
   "cell_type": "code",
   "execution_count": 2,
   "metadata": {},
   "outputs": [],
   "source": [
    "fips = pd.read_csv('/Users/rebeccawagner/Documents/GitHub/GerryGainMCMC/state_fips.csv', dtype=str)\n",
    "fips_dict = dict(zip(fips.FIPS, fips.Abreviation))"
   ]
  },
  {
   "cell_type": "code",
   "execution_count": 3,
   "metadata": {
    "tags": []
   },
   "outputs": [],
   "source": [
    "with open('/Users/rebeccawagner/Documents/GitHub/GerryGainMCMC/local_environments_US.csv', 'r') as le_file:\n",
    "    \n",
    "    reader = csv.reader(le_file)\n",
    "    next(reader)\n",
    "\n",
    "    cur_fips = '01'\n",
    "    abrv = fips_dict[cur_fips]\n",
    "\n",
    "    path_name = '/Users/rebeccawagner/Desktop/state_environs/' + abrv +'_LE'\n",
    "\n",
    "    state_file = open(path_name, 'w')\n",
    "\n",
    "    for row in reader:\n",
    "\n",
    "        fips = row[0][:2]\n",
    "\n",
    "        if fips == cur_fips:\n",
    "            writer = csv.writer(state_file)\n",
    "            writer.writerow(row)\n",
    "\n",
    "        else:\n",
    "\n",
    "            state_file.close()\n",
    "            \n",
    "            cur_fips = fips\n",
    "            abrv = fips_dict[cur_fips]\n",
    "            path_name = '/Users/rebeccawagner/Desktop/state_environs/' + abrv +'_LE'\n",
    "\n",
    "            state_file = open(path_name, 'w')\n",
    "\n"
   ]
  },
  {
   "cell_type": "code",
   "execution_count": null,
   "metadata": {},
   "outputs": [],
   "source": []
  }
 ],
 "metadata": {
  "kernelspec": {
   "display_name": "gerry",
   "language": "python",
   "name": "python3"
  },
  "language_info": {
   "codemirror_mode": {
    "name": "ipython",
    "version": 3
   },
   "file_extension": ".py",
   "mimetype": "text/x-python",
   "name": "python",
   "nbconvert_exporter": "python",
   "pygments_lexer": "ipython3",
   "version": "3.10.6 | packaged by conda-forge | (main, Aug 22 2022, 20:43:44) [Clang 13.0.1 ]"
  },
  "orig_nbformat": 2,
  "vscode": {
   "interpreter": {
    "hash": "490c0a39a4dd3df29f486b863cd658d9baeb3f977e83207532ec1f0044a62912"
   }
  }
 },
 "nbformat": 4,
 "nbformat_minor": 2
}
