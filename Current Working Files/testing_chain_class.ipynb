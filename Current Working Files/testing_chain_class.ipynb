{
 "cells": [
  {
   "cell_type": "code",
   "execution_count": 1,
   "metadata": {},
   "outputs": [],
   "source": [
    "from Chain_Class import Chain\n",
    "from THIS_rungerrychain import *\n",
    "from Create_Chain import *\n",
    "\n",
    "from gerrychain import updaters, constraints\n",
    "from gerrychain.updaters import Tally, cut_edges\n",
    "\n",
    "import geopandas as gpd\n",
    "import numpy as np\n",
    "import pandas as pd"
   ]
  },
  {
   "cell_type": "markdown",
   "metadata": {},
   "source": [
    "# Chain Class"
   ]
  },
  {
   "attachments": {},
   "cell_type": "markdown",
   "metadata": {},
   "source": [
    "## Updater Functions\n",
    "\n",
    "These are updaters that we are manually defining"
   ]
  },
  {
   "cell_type": "code",
   "execution_count": 2,
   "metadata": {},
   "outputs": [],
   "source": [
    "def split_counter(partition):\n",
    "    count_splits = 0\n",
    "    for item in partition[\"county_info\"]:\n",
    "        count_splits += len(partition[\"county_info\"][item][2]) - 1\n",
    "    return count_splits\n",
    "\n",
    "def num_split_counties(partition):\n",
    "    counties_with_splits = 0\n",
    "    for item in partition[\"county_info\"]:\n",
    "        if len(partition[\"county_info\"][item][2]) > 1:\n",
    "            counties_with_splits += 1\n",
    "    return counties_with_splits\n",
    "\n",
    "def oversplit_counties(partition):\n",
    "    oversplits = 0\n",
    "    for item in partition[\"county_info\"]:\n",
    "        if len(partition[\"county_info\"][item][2]) > 2:\n",
    "            oversplits += 1\n",
    "    return oversplits\n",
    "\n",
    "def bad_incumbents(partition):\n",
    "    num_problems = 0\n",
    "    for part in partition.parts:\n",
    "        if partition[\"incumbents\"][part] > 1:\n",
    "            num_problems += 1\n",
    "    return num_problems\n",
    "\n",
    "def subpop_over_threshold(partition):\n",
    "    count_over = 0\n",
    "    alpha = 0.5# Arbitrarily defined threshold\n",
    "    for dist in partition['population']:\n",
    "        # whatever this first term is needs to be an updater in my updaters so the constraint validator can look for it\n",
    "        if partition['subpop'][dist] / partition['population'][dist] >= alpha:\n",
    "            count_over += 1\n",
    "    return count_over"
   ]
  },
  {
   "attachments": {},
   "cell_type": "markdown",
   "metadata": {},
   "source": [
    "## Create the Chain"
   ]
  },
  {
   "cell_type": "code",
   "execution_count": 3,
   "metadata": {},
   "outputs": [],
   "source": [
    "test_chain = Chain(steps=10, pop_deviation=.05)"
   ]
  },
  {
   "attachments": {},
   "cell_type": "markdown",
   "metadata": {},
   "source": [
    "We need to add our updaters to this chain"
   ]
  },
  {
   "cell_type": "code",
   "execution_count": 4,
   "metadata": {},
   "outputs": [],
   "source": [
    "test_chain.define_updater(updater_name=\"split_counter\", updater_function=split_counter)\n",
    "test_chain.define_updater(updater_name=\"num_split_counties\", updater_function=num_split_counties)\n",
    "test_chain.define_updater(updater_name=\"oversplit_counties\",updater_function=oversplit_counties)\n",
    "test_chain.define_updater(updater_name=\"bad_incumbents\",updater_function=bad_incumbents)\n",
    "test_chain.define_updater(updater_name=\"subpop_over_threshold\",updater_function=subpop_over_threshold)\n",
    "\n",
    "test_chain.define_updater(updater_name=\"population\", updater_function=updaters.Tally(\"total\",alias=\"population\"))\n",
    "test_chain.define_updater(updater_name='county_info',updater_function=updaters.county_splits(\"county_info\",\"county\"))\n",
    "test_chain.define_updater(\"incumbents\",updaters.Tally(\"incumbent\",alias='incumbents'))\n",
    "test_chain.define_updater(\"subpop\",updaters.Tally(\"blk_1\",alias='subpop'))\n"
   ]
  },
  {
   "cell_type": "code",
   "execution_count": 5,
   "metadata": {},
   "outputs": [
    {
     "data": {
      "text/plain": [
       "{'split_counter': <function __main__.split_counter(partition)>,\n",
       " 'num_split_counties': <function __main__.num_split_counties(partition)>,\n",
       " 'oversplit_counties': <function __main__.oversplit_counties(partition)>,\n",
       " 'bad_incumbents': <function __main__.bad_incumbents(partition)>,\n",
       " 'subpop_over_threshold': <function __main__.subpop_over_threshold(partition)>,\n",
       " 'population': <gerrychain.updaters.tally.Tally at 0x10cced930>,\n",
       " 'county_info': <function gerrychain.updaters.county_splits.county_splits.<locals>._get_county_splits(partition)>,\n",
       " 'incumbents': <gerrychain.updaters.tally.Tally at 0x10cced720>,\n",
       " 'subpop': <gerrychain.updaters.tally.Tally at 0x10cceca30>}"
      ]
     },
     "execution_count": 5,
     "metadata": {},
     "output_type": "execute_result"
    }
   ],
   "source": [
    "test_chain.get_updaters()"
   ]
  },
  {
   "attachments": {},
   "cell_type": "markdown",
   "metadata": {},
   "source": [
    "## Create the initial partition\n",
    "\n",
    "We need to do this after updaters and before constraints. \n",
    "It will help to look at your geodataframe and see what columns you will be using."
   ]
  },
  {
   "cell_type": "code",
   "execution_count": 6,
   "metadata": {},
   "outputs": [
    {
     "data": {
      "text/html": [
       "<div>\n",
       "<style scoped>\n",
       "    .dataframe tbody tr th:only-of-type {\n",
       "        vertical-align: middle;\n",
       "    }\n",
       "\n",
       "    .dataframe tbody tr th {\n",
       "        vertical-align: top;\n",
       "    }\n",
       "\n",
       "    .dataframe thead th {\n",
       "        text-align: right;\n",
       "    }\n",
       "</style>\n",
       "<table border=\"1\" class=\"dataframe\">\n",
       "  <thead>\n",
       "    <tr style=\"text-align: right;\">\n",
       "      <th></th>\n",
       "      <th>OBJECTID</th>\n",
       "      <th>Join_Count</th>\n",
       "      <th>TARGET_FID</th>\n",
       "      <th>cd_117</th>\n",
       "      <th>VTD</th>\n",
       "      <th>vtd_cd_117</th>\n",
       "      <th>dups</th>\n",
       "      <th>total</th>\n",
       "      <th>one_race</th>\n",
       "      <th>wht_1</th>\n",
       "      <th>...</th>\n",
       "      <th>last</th>\n",
       "      <th>first</th>\n",
       "      <th>middle</th>\n",
       "      <th>race</th>\n",
       "      <th>res_ad_lat</th>\n",
       "      <th>res_ad_lon</th>\n",
       "      <th>incumbent</th>\n",
       "      <th>Shape_Le_1</th>\n",
       "      <th>Shape_Area</th>\n",
       "      <th>geometry</th>\n",
       "    </tr>\n",
       "  </thead>\n",
       "  <tbody>\n",
       "    <tr>\n",
       "      <th>0</th>\n",
       "      <td>1</td>\n",
       "      <td>0</td>\n",
       "      <td>0</td>\n",
       "      <td>01001</td>\n",
       "      <td>01003000001</td>\n",
       "      <td>01003000001_01001</td>\n",
       "      <td>0</td>\n",
       "      <td>357</td>\n",
       "      <td>334</td>\n",
       "      <td>256</td>\n",
       "      <td>...</td>\n",
       "      <td>None</td>\n",
       "      <td>None</td>\n",
       "      <td>None</td>\n",
       "      <td>None</td>\n",
       "      <td>0.0</td>\n",
       "      <td>0.0</td>\n",
       "      <td>0</td>\n",
       "      <td>1.004504</td>\n",
       "      <td>0.024391</td>\n",
       "      <td>POLYGON ((-87.76515 31.29735, -87.76360 31.297...</td>\n",
       "    </tr>\n",
       "    <tr>\n",
       "      <th>1</th>\n",
       "      <td>2</td>\n",
       "      <td>0</td>\n",
       "      <td>1</td>\n",
       "      <td>01001</td>\n",
       "      <td>01003000002</td>\n",
       "      <td>01003000002_01001</td>\n",
       "      <td>0</td>\n",
       "      <td>251</td>\n",
       "      <td>242</td>\n",
       "      <td>98</td>\n",
       "      <td>...</td>\n",
       "      <td>None</td>\n",
       "      <td>None</td>\n",
       "      <td>None</td>\n",
       "      <td>None</td>\n",
       "      <td>0.0</td>\n",
       "      <td>0.0</td>\n",
       "      <td>0</td>\n",
       "      <td>1.012120</td>\n",
       "      <td>0.022135</td>\n",
       "      <td>POLYGON ((-87.81299 31.13709, -87.81653 31.131...</td>\n",
       "    </tr>\n",
       "    <tr>\n",
       "      <th>2</th>\n",
       "      <td>3</td>\n",
       "      <td>0</td>\n",
       "      <td>2</td>\n",
       "      <td>01001</td>\n",
       "      <td>01003000003</td>\n",
       "      <td>01003000003_01001</td>\n",
       "      <td>0</td>\n",
       "      <td>558</td>\n",
       "      <td>538</td>\n",
       "      <td>260</td>\n",
       "      <td>...</td>\n",
       "      <td>None</td>\n",
       "      <td>None</td>\n",
       "      <td>None</td>\n",
       "      <td>None</td>\n",
       "      <td>0.0</td>\n",
       "      <td>0.0</td>\n",
       "      <td>0</td>\n",
       "      <td>0.597227</td>\n",
       "      <td>0.010159</td>\n",
       "      <td>POLYGON ((-87.90042 30.93770, -87.90144 30.937...</td>\n",
       "    </tr>\n",
       "    <tr>\n",
       "      <th>3</th>\n",
       "      <td>4</td>\n",
       "      <td>0</td>\n",
       "      <td>3</td>\n",
       "      <td>01001</td>\n",
       "      <td>01003000004</td>\n",
       "      <td>01003000004_01001</td>\n",
       "      <td>0</td>\n",
       "      <td>1175</td>\n",
       "      <td>1119</td>\n",
       "      <td>821</td>\n",
       "      <td>...</td>\n",
       "      <td>None</td>\n",
       "      <td>None</td>\n",
       "      <td>None</td>\n",
       "      <td>None</td>\n",
       "      <td>0.0</td>\n",
       "      <td>0.0</td>\n",
       "      <td>0</td>\n",
       "      <td>0.641053</td>\n",
       "      <td>0.012414</td>\n",
       "      <td>POLYGON ((-87.92361 30.93146, -87.92348 30.931...</td>\n",
       "    </tr>\n",
       "    <tr>\n",
       "      <th>4</th>\n",
       "      <td>5</td>\n",
       "      <td>0</td>\n",
       "      <td>4</td>\n",
       "      <td>01001</td>\n",
       "      <td>01003000005</td>\n",
       "      <td>01003000005_01001</td>\n",
       "      <td>0</td>\n",
       "      <td>1632</td>\n",
       "      <td>1578</td>\n",
       "      <td>401</td>\n",
       "      <td>...</td>\n",
       "      <td>None</td>\n",
       "      <td>None</td>\n",
       "      <td>None</td>\n",
       "      <td>None</td>\n",
       "      <td>0.0</td>\n",
       "      <td>0.0</td>\n",
       "      <td>0</td>\n",
       "      <td>0.188839</td>\n",
       "      <td>0.000877</td>\n",
       "      <td>POLYGON ((-87.77521 30.83709, -87.77556 30.837...</td>\n",
       "    </tr>\n",
       "  </tbody>\n",
       "</table>\n",
       "<p>5 rows × 29 columns</p>\n",
       "</div>"
      ],
      "text/plain": [
       "   OBJECTID  Join_Count  TARGET_FID cd_117          VTD         vtd_cd_117  \\\n",
       "0         1           0           0  01001  01003000001  01003000001_01001   \n",
       "1         2           0           1  01001  01003000002  01003000002_01001   \n",
       "2         3           0           2  01001  01003000003  01003000003_01001   \n",
       "3         4           0           3  01001  01003000004  01003000004_01001   \n",
       "4         5           0           4  01001  01003000005  01003000005_01001   \n",
       "\n",
       "   dups  total  one_race  wht_1  ...  last  first  middle  race  res_ad_lat  \\\n",
       "0     0    357       334    256  ...  None   None    None  None         0.0   \n",
       "1     0    251       242     98  ...  None   None    None  None         0.0   \n",
       "2     0    558       538    260  ...  None   None    None  None         0.0   \n",
       "3     0   1175      1119    821  ...  None   None    None  None         0.0   \n",
       "4     0   1632      1578    401  ...  None   None    None  None         0.0   \n",
       "\n",
       "   res_ad_lon  incumbent  Shape_Le_1 Shape_Area  \\\n",
       "0         0.0          0    1.004504   0.024391   \n",
       "1         0.0          0    1.012120   0.022135   \n",
       "2         0.0          0    0.597227   0.010159   \n",
       "3         0.0          0    0.641053   0.012414   \n",
       "4         0.0          0    0.188839   0.000877   \n",
       "\n",
       "                                            geometry  \n",
       "0  POLYGON ((-87.76515 31.29735, -87.76360 31.297...  \n",
       "1  POLYGON ((-87.81299 31.13709, -87.81653 31.131...  \n",
       "2  POLYGON ((-87.90042 30.93770, -87.90144 30.937...  \n",
       "3  POLYGON ((-87.92361 30.93146, -87.92348 30.931...  \n",
       "4  POLYGON ((-87.77521 30.83709, -87.77556 30.837...  \n",
       "\n",
       "[5 rows x 29 columns]"
      ]
     },
     "execution_count": 6,
     "metadata": {},
     "output_type": "execute_result"
    }
   ],
   "source": [
    "import geopandas as gpd\n",
    "\n",
    "shp_file='/Users/rebeccawagner/Documents/GitHub/GerryGainMCMC/Data/State Shp Files/AL/Alabama_VTD_District_Intersection.shp'\n",
    "\n",
    "gpd.read_file(shp_file).head()"
   ]
  },
  {
   "cell_type": "code",
   "execution_count": 7,
   "metadata": {},
   "outputs": [
    {
     "name": "stderr",
     "output_type": "stream",
     "text": [
      "/Users/rebeccawagner/opt/anaconda3/envs/gerry/lib/python3.10/site-packages/gerrychain/graph/adjacency.py:21: ShapelyDeprecationWarning: Setting custom attributes on geometry objects is deprecated, and will raise an AttributeError in Shapely 2.0\n",
      "  geometries[i].id = i\n",
      "/Users/rebeccawagner/opt/anaconda3/envs/gerry/lib/python3.10/site-packages/gerrychain/graph/adjacency.py:23: ShapelyDeprecationWarning: STRtree will be changed in 2.0.0 and will not be compatible with versions < 2.\n",
      "  tree = STRtree(geometries)\n",
      "/Users/rebeccawagner/opt/anaconda3/envs/gerry/lib/python3.10/site-packages/gerrychain/graph/graph.py:162: UserWarning: Geometry is in a geographic CRS. Results from 'area' are likely incorrect. Use 'GeoSeries.to_crs()' to re-project geometries to a projected CRS before this operation.\n",
      "\n",
      "  areas = df.geometry.area.to_dict()\n",
      "/Users/rebeccawagner/opt/anaconda3/envs/gerry/lib/python3.10/site-packages/gerrychain/graph/graph.py:272: UserWarning: NA values found in column last!\n",
      "  warnings.warn(\"NA values found in column {}!\".format(column))\n",
      "/Users/rebeccawagner/opt/anaconda3/envs/gerry/lib/python3.10/site-packages/gerrychain/graph/graph.py:272: UserWarning: NA values found in column first!\n",
      "  warnings.warn(\"NA values found in column {}!\".format(column))\n",
      "/Users/rebeccawagner/opt/anaconda3/envs/gerry/lib/python3.10/site-packages/gerrychain/graph/graph.py:272: UserWarning: NA values found in column middle!\n",
      "  warnings.warn(\"NA values found in column {}!\".format(column))\n",
      "/Users/rebeccawagner/opt/anaconda3/envs/gerry/lib/python3.10/site-packages/gerrychain/graph/graph.py:272: UserWarning: NA values found in column race!\n",
      "  warnings.warn(\"NA values found in column {}!\".format(column))\n"
     ]
    }
   ],
   "source": [
    "test_chain.create_initial_partition(shp_file=shp_file,grouping_assignment_column='cd_117')"
   ]
  },
  {
   "attachments": {},
   "cell_type": "markdown",
   "metadata": {},
   "source": [
    "## Define Constraints"
   ]
  },
  {
   "cell_type": "code",
   "execution_count": 8,
   "metadata": {},
   "outputs": [],
   "source": [
    "## manually defined constraints\n",
    "\n",
    "pop_constraint = constraints.within_percent_of_ideal_population(test_chain.get_current_partition(), test_chain.pop_deviation)\n",
    "\n",
    "county_limit = constraints.UpperBound(\n",
    "    lambda p: split_counter(p),\n",
    "    3*split_counter(test_chain.get_current_partition()))"
   ]
  },
  {
   "cell_type": "code",
   "execution_count": 9,
   "metadata": {},
   "outputs": [],
   "source": [
    "test_chain.define_constraint(constraints.contiguous)\n",
    "test_chain.define_constraint(pop_constraint)\n",
    "test_chain.define_constraint(county_limit)"
   ]
  },
  {
   "cell_type": "code",
   "execution_count": 10,
   "metadata": {},
   "outputs": [
    {
     "data": {
      "text/plain": [
       "[<function gerrychain.constraints.contiguity.contiguous(partition)>,\n",
       " <gerrychain.constraints.bounds.Bounds at 0x16562de70>,\n",
       " <UpperBound(<lambda> >= 18)>]"
      ]
     },
     "execution_count": 10,
     "metadata": {},
     "output_type": "execute_result"
    }
   ],
   "source": [
    "test_chain.constraints"
   ]
  },
  {
   "attachments": {},
   "cell_type": "markdown",
   "metadata": {},
   "source": [
    "## Run a short chain"
   ]
  },
  {
   "cell_type": "code",
   "execution_count": 11,
   "metadata": {},
   "outputs": [
    {
     "name": "stdout",
     "output_type": "stream",
     "text": [
      "Iteration 1\n",
      "Iteration 2\n",
      "Iteration 3\n",
      "Iteration 4\n",
      "Iteration 5\n",
      "Iteration 6\n",
      "Iteration 7\n",
      "Iteration 8\n",
      "Iteration 9\n",
      "Iteration 10\n",
      "\n",
      "Chain complete. Time elapsed: 1.5056958198547363 seconds.\n"
     ]
    }
   ],
   "source": [
    "RunGerryChain(chain_obj=test_chain,seed=0,geographic_area_column='VTD',population_column='total', output_path='/Users/rebeccawagner/Documents/GitHub/GerryGainMCMC/test_output',show_progress=True)"
   ]
  },
  {
   "cell_type": "markdown",
   "metadata": {},
   "source": [
    "# Create Chain Function"
   ]
  },
  {
   "cell_type": "code",
   "execution_count": 54,
   "metadata": {},
   "outputs": [
    {
     "name": "stdout",
     "output_type": "stream",
     "text": [
      "creating chain object..\n",
      "defining updaters...\n",
      "creating partition\n"
     ]
    },
    {
     "name": "stderr",
     "output_type": "stream",
     "text": [
      "/Users/rebeccawagner/opt/anaconda3/envs/gerry/lib/python3.10/site-packages/gerrychain/graph/adjacency.py:21: ShapelyDeprecationWarning: Setting custom attributes on geometry objects is deprecated, and will raise an AttributeError in Shapely 2.0\n",
      "  geometries[i].id = i\n",
      "/Users/rebeccawagner/opt/anaconda3/envs/gerry/lib/python3.10/site-packages/gerrychain/graph/adjacency.py:23: ShapelyDeprecationWarning: STRtree will be changed in 2.0.0 and will not be compatible with versions < 2.\n",
      "  tree = STRtree(geometries)\n"
     ]
    },
    {
     "name": "stdout",
     "output_type": "stream",
     "text": [
      "defining constraints\n",
      "chain object created\n"
     ]
    },
    {
     "name": "stderr",
     "output_type": "stream",
     "text": [
      "/Users/rebeccawagner/opt/anaconda3/envs/gerry/lib/python3.10/site-packages/gerrychain/graph/graph.py:162: UserWarning: Geometry is in a geographic CRS. Results from 'area' are likely incorrect. Use 'GeoSeries.to_crs()' to re-project geometries to a projected CRS before this operation.\n",
      "\n",
      "  areas = df.geometry.area.to_dict()\n",
      "/Users/rebeccawagner/opt/anaconda3/envs/gerry/lib/python3.10/site-packages/gerrychain/graph/graph.py:272: UserWarning: NA values found in column last!\n",
      "  warnings.warn(\"NA values found in column {}!\".format(column))\n",
      "/Users/rebeccawagner/opt/anaconda3/envs/gerry/lib/python3.10/site-packages/gerrychain/graph/graph.py:272: UserWarning: NA values found in column first!\n",
      "  warnings.warn(\"NA values found in column {}!\".format(column))\n",
      "/Users/rebeccawagner/opt/anaconda3/envs/gerry/lib/python3.10/site-packages/gerrychain/graph/graph.py:272: UserWarning: NA values found in column middle!\n",
      "  warnings.warn(\"NA values found in column {}!\".format(column))\n",
      "/Users/rebeccawagner/opt/anaconda3/envs/gerry/lib/python3.10/site-packages/gerrychain/graph/graph.py:272: UserWarning: NA values found in column race!\n",
      "  warnings.warn(\"NA values found in column {}!\".format(column))\n"
     ]
    }
   ],
   "source": [
    "updaters_list=[split_counter, num_split_counties, oversplit_counties, bad_incumbents, subpop_over_threshold]\n",
    "\n",
    "test_chain_2 = CreateChain(steps=10,shp_file=shp_file,grouping_assignment_column='cd_117',updaters=updaters_list)"
   ]
  },
  {
   "cell_type": "code",
   "execution_count": 53,
   "metadata": {},
   "outputs": [
    {
     "data": {
      "text/plain": [
       "{'split_counter': <function __main__.split_counter(partition)>,\n",
       " 'num_split_counties': <function __main__.num_split_counties(partition)>,\n",
       " 'oversplit_counties': <function __main__.oversplit_counties(partition)>,\n",
       " 'bad_incumbents': <function __main__.bad_incumbents(partition)>,\n",
       " 'subpop_over_threshold': <function __main__.subpop_over_threshold(partition)>,\n",
       " 'population': <gerrychain.updaters.tally.Tally at 0x16f786e30>,\n",
       " 'county_info': <function gerrychain.updaters.county_splits.county_splits.<locals>._get_county_splits(partition)>}"
      ]
     },
     "execution_count": 53,
     "metadata": {},
     "output_type": "execute_result"
    }
   ],
   "source": [
    "test_chain_2.get_updaters()"
   ]
  },
  {
   "cell_type": "code",
   "execution_count": 43,
   "metadata": {},
   "outputs": [
    {
     "ename": "KeyError",
     "evalue": "'county_info'",
     "output_type": "error",
     "traceback": [
      "\u001b[0;31m---------------------------------------------------------------------------\u001b[0m",
      "\u001b[0;31mKeyError\u001b[0m                                  Traceback (most recent call last)",
      "\u001b[1;32m/Users/rebeccawagner/Documents/GitHub/GerryGainMCMC/Current Working Files/testing_chain_class.ipynb Cell 24\u001b[0m in \u001b[0;36m3\n\u001b[1;32m      <a href='vscode-notebook-cell:/Users/rebeccawagner/Documents/GitHub/GerryGainMCMC/Current%20Working%20Files/testing_chain_class.ipynb#X66sZmlsZQ%3D%3D?line=0'>1</a>\u001b[0m county_limit \u001b[39m=\u001b[39m constraints\u001b[39m.\u001b[39mUpperBound(\n\u001b[1;32m      <a href='vscode-notebook-cell:/Users/rebeccawagner/Documents/GitHub/GerryGainMCMC/Current%20Working%20Files/testing_chain_class.ipynb#X66sZmlsZQ%3D%3D?line=1'>2</a>\u001b[0m     \u001b[39mlambda\u001b[39;00m p: split_counter(p),\n\u001b[0;32m----> <a href='vscode-notebook-cell:/Users/rebeccawagner/Documents/GitHub/GerryGainMCMC/Current%20Working%20Files/testing_chain_class.ipynb#X66sZmlsZQ%3D%3D?line=2'>3</a>\u001b[0m     \u001b[39m3\u001b[39m\u001b[39m*\u001b[39msplit_counter(test_chain_2\u001b[39m.\u001b[39;49mget_current_partition()))\n",
      "\u001b[1;32m/Users/rebeccawagner/Documents/GitHub/GerryGainMCMC/Current Working Files/testing_chain_class.ipynb Cell 24\u001b[0m in \u001b[0;36m3\n\u001b[1;32m      <a href='vscode-notebook-cell:/Users/rebeccawagner/Documents/GitHub/GerryGainMCMC/Current%20Working%20Files/testing_chain_class.ipynb#X66sZmlsZQ%3D%3D?line=0'>1</a>\u001b[0m \u001b[39mdef\u001b[39;00m \u001b[39msplit_counter\u001b[39m(partition):\n\u001b[1;32m      <a href='vscode-notebook-cell:/Users/rebeccawagner/Documents/GitHub/GerryGainMCMC/Current%20Working%20Files/testing_chain_class.ipynb#X66sZmlsZQ%3D%3D?line=1'>2</a>\u001b[0m     count_splits \u001b[39m=\u001b[39m \u001b[39m0\u001b[39m\n\u001b[0;32m----> <a href='vscode-notebook-cell:/Users/rebeccawagner/Documents/GitHub/GerryGainMCMC/Current%20Working%20Files/testing_chain_class.ipynb#X66sZmlsZQ%3D%3D?line=2'>3</a>\u001b[0m     \u001b[39mfor\u001b[39;00m item \u001b[39min\u001b[39;00m partition[\u001b[39m\"\u001b[39;49m\u001b[39mcounty_info\u001b[39;49m\u001b[39m\"\u001b[39;49m]:\n\u001b[1;32m      <a href='vscode-notebook-cell:/Users/rebeccawagner/Documents/GitHub/GerryGainMCMC/Current%20Working%20Files/testing_chain_class.ipynb#X66sZmlsZQ%3D%3D?line=3'>4</a>\u001b[0m         count_splits \u001b[39m+\u001b[39m\u001b[39m=\u001b[39m \u001b[39mlen\u001b[39m(partition[\u001b[39m\"\u001b[39m\u001b[39mcounty_info\u001b[39m\u001b[39m\"\u001b[39m][item][\u001b[39m2\u001b[39m]) \u001b[39m-\u001b[39m \u001b[39m1\u001b[39m\n\u001b[1;32m      <a href='vscode-notebook-cell:/Users/rebeccawagner/Documents/GitHub/GerryGainMCMC/Current%20Working%20Files/testing_chain_class.ipynb#X66sZmlsZQ%3D%3D?line=4'>5</a>\u001b[0m     \u001b[39mreturn\u001b[39;00m count_splits\n",
      "File \u001b[0;32m~/opt/anaconda3/envs/gerry/lib/python3.10/site-packages/gerrychain/partition/partition.py:111\u001b[0m, in \u001b[0;36mPartition.__getitem__\u001b[0;34m(self, key)\u001b[0m\n\u001b[1;32m    105\u001b[0m \u001b[39m\"\"\"Allows accessing the values of updaters computed for this\u001b[39;00m\n\u001b[1;32m    106\u001b[0m \u001b[39mPartition instance.\u001b[39;00m\n\u001b[1;32m    107\u001b[0m \n\u001b[1;32m    108\u001b[0m \u001b[39m:param key: Property to access.\u001b[39;00m\n\u001b[1;32m    109\u001b[0m \u001b[39m\"\"\"\u001b[39;00m\n\u001b[1;32m    110\u001b[0m \u001b[39mif\u001b[39;00m key \u001b[39mnot\u001b[39;00m \u001b[39min\u001b[39;00m \u001b[39mself\u001b[39m\u001b[39m.\u001b[39m_cache:\n\u001b[0;32m--> 111\u001b[0m     \u001b[39mself\u001b[39m\u001b[39m.\u001b[39m_cache[key] \u001b[39m=\u001b[39m \u001b[39mself\u001b[39;49m\u001b[39m.\u001b[39;49mupdaters[key](\u001b[39mself\u001b[39m)\n\u001b[1;32m    112\u001b[0m \u001b[39mreturn\u001b[39;00m \u001b[39mself\u001b[39m\u001b[39m.\u001b[39m_cache[key]\n",
      "\u001b[0;31mKeyError\u001b[0m: 'county_info'"
     ]
    }
   ],
   "source": [
    "county_limit = constraints.UpperBound(\n",
    "    lambda p: split_counter(p),\n",
    "    3*split_counter(test_chain_2.get_current_partition()))"
   ]
  },
  {
   "cell_type": "code",
   "execution_count": 24,
   "metadata": {},
   "outputs": [],
   "source": [
    "test_chain_2.define_constraint(constraints.contiguous)\n",
    "test_chain_2.define_constraint(pop_constraint)\n",
    "test_chain_2.define_constraint(county_limit)"
   ]
  },
  {
   "cell_type": "code",
   "execution_count": null,
   "metadata": {},
   "outputs": [],
   "source": [
    "test_chain"
   ]
  },
  {
   "cell_type": "markdown",
   "metadata": {},
   "source": [
    "# Other"
   ]
  },
  {
   "attachments": {},
   "cell_type": "markdown",
   "metadata": {},
   "source": [
    "## Meta_dict testing "
   ]
  },
  {
   "cell_type": "code",
   "execution_count": 13,
   "metadata": {},
   "outputs": [
    {
     "data": {
      "text/plain": [
       "{'split_counter': <function __main__.split_counter(partition)>,\n",
       " 'num_split_counties': <function __main__.num_split_counties(partition)>,\n",
       " 'oversplit_counties': <function __main__.oversplit_counties(partition)>,\n",
       " 'bad_incumbents': <function __main__.bad_incumbents(partition)>,\n",
       " 'subpop_over_threshold': <function __main__.subpop_over_threshold(partition)>,\n",
       " 'population': <gerrychain.updaters.tally.Tally at 0x110239c90>,\n",
       " 'county_info': <function gerrychain.updaters.county_splits.county_splits.<locals>._get_county_splits(partition)>,\n",
       " 'incumbents': <gerrychain.updaters.tally.Tally at 0x11023a890>,\n",
       " 'subpop': <gerrychain.updaters.tally.Tally at 0x11023ad40>}"
      ]
     },
     "execution_count": 13,
     "metadata": {},
     "output_type": "execute_result"
    }
   ],
   "source": [
    "updaters = test_chain.get_updaters()\n",
    "updaters"
   ]
  },
  {
   "cell_type": "code",
   "execution_count": 53,
   "metadata": {},
   "outputs": [
    {
     "data": {
      "text/plain": [
       "9"
      ]
     },
     "execution_count": 53,
     "metadata": {},
     "output_type": "execute_result"
    }
   ],
   "source": [
    "len(updaters)"
   ]
  },
  {
   "cell_type": "code",
   "execution_count": 50,
   "metadata": {},
   "outputs": [],
   "source": [
    "for i in range(len(list(updaters.keys()))):\n",
    "    meta_dict[list(updaters.keys())[i]] = test_chain.initial_partition[list(updaters.keys())[i]]"
   ]
  },
  {
   "cell_type": "code",
   "execution_count": 52,
   "metadata": {},
   "outputs": [
    {
     "data": {
      "text/plain": [
       "dict_keys(['split_counter', 'num_split_counties', 'oversplit_counties', 'bad_incumbents', 'subpop_over_threshold', 'population', 'county_info', 'incumbents', 'subpop'])"
      ]
     },
     "execution_count": 52,
     "metadata": {},
     "output_type": "execute_result"
    }
   ],
   "source": [
    "meta_dict.keys()"
   ]
  },
  {
   "cell_type": "code",
   "execution_count": 41,
   "metadata": {},
   "outputs": [],
   "source": [
    "meta_dict={}"
   ]
  },
  {
   "cell_type": "code",
   "execution_count": 42,
   "metadata": {},
   "outputs": [],
   "source": [
    "meta_dict[list(updaters.keys())[0]] = test_chain.initial_partition[list(updaters.keys())[0]]"
   ]
  },
  {
   "cell_type": "code",
   "execution_count": 43,
   "metadata": {},
   "outputs": [
    {
     "data": {
      "text/plain": [
       "{'split_counter': 6}"
      ]
     },
     "execution_count": 43,
     "metadata": {},
     "output_type": "execute_result"
    }
   ],
   "source": [
    "meta_dict"
   ]
  },
  {
   "cell_type": "code",
   "execution_count": 38,
   "metadata": {},
   "outputs": [
    {
     "data": {
      "text/plain": [
       "6"
      ]
     },
     "execution_count": 38,
     "metadata": {},
     "output_type": "execute_result"
    }
   ],
   "source": [
    "test_chain.initial_partition['num_split_counties']"
   ]
  },
  {
   "cell_type": "code",
   "execution_count": 35,
   "metadata": {},
   "outputs": [
    {
     "data": {
      "text/plain": [
       "[<function __main__.split_counter(partition)>,\n",
       " <function __main__.num_split_counties(partition)>,\n",
       " <function __main__.oversplit_counties(partition)>,\n",
       " <function __main__.bad_incumbents(partition)>,\n",
       " <function __main__.subpop_over_threshold(partition)>,\n",
       " <gerrychain.updaters.tally.Tally at 0x110239c90>,\n",
       " <function gerrychain.updaters.county_splits.county_splits.<locals>._get_county_splits(partition)>,\n",
       " <gerrychain.updaters.tally.Tally at 0x11023a890>,\n",
       " <gerrychain.updaters.tally.Tally at 0x11023ad40>]"
      ]
     },
     "execution_count": 35,
     "metadata": {},
     "output_type": "execute_result"
    }
   ],
   "source": [
    "list(updaters.values())"
   ]
  },
  {
   "cell_type": "markdown",
   "metadata": {},
   "source": [
    "## New Mexico"
   ]
  },
  {
   "cell_type": "code",
   "execution_count": 104,
   "metadata": {},
   "outputs": [
    {
     "data": {
      "text/html": [
       "<div>\n",
       "<style scoped>\n",
       "    .dataframe tbody tr th:only-of-type {\n",
       "        vertical-align: middle;\n",
       "    }\n",
       "\n",
       "    .dataframe tbody tr th {\n",
       "        vertical-align: top;\n",
       "    }\n",
       "\n",
       "    .dataframe thead th {\n",
       "        text-align: right;\n",
       "    }\n",
       "</style>\n",
       "<table border=\"1\" class=\"dataframe\">\n",
       "  <thead>\n",
       "    <tr style=\"text-align: right;\">\n",
       "      <th></th>\n",
       "      <th>block_vtda</th>\n",
       "      <th>state</th>\n",
       "      <th>Shape_Leng</th>\n",
       "      <th>Shape_Area</th>\n",
       "      <th>ID</th>\n",
       "      <th>OID_1</th>\n",
       "      <th>block_vt_1</th>\n",
       "      <th>total</th>\n",
       "      <th>geometry</th>\n",
       "    </tr>\n",
       "  </thead>\n",
       "  <tbody>\n",
       "    <tr>\n",
       "      <th>0</th>\n",
       "      <td>35001000001</td>\n",
       "      <td>35</td>\n",
       "      <td>0.113352</td>\n",
       "      <td>0.000483</td>\n",
       "      <td>0</td>\n",
       "      <td>0</td>\n",
       "      <td>35001000001</td>\n",
       "      <td>2090.0</td>\n",
       "      <td>POLYGON ((-106.74884 35.21799, -106.73141 35.2...</td>\n",
       "    </tr>\n",
       "    <tr>\n",
       "      <th>1</th>\n",
       "      <td>35001000002</td>\n",
       "      <td>35</td>\n",
       "      <td>0.033215</td>\n",
       "      <td>0.000049</td>\n",
       "      <td>1</td>\n",
       "      <td>1</td>\n",
       "      <td>35001000002</td>\n",
       "      <td>1132.0</td>\n",
       "      <td>POLYGON ((-106.67201 35.21794, -106.67079 35.2...</td>\n",
       "    </tr>\n",
       "    <tr>\n",
       "      <th>2</th>\n",
       "      <td>35001000003</td>\n",
       "      <td>35</td>\n",
       "      <td>0.073484</td>\n",
       "      <td>0.000223</td>\n",
       "      <td>2</td>\n",
       "      <td>2</td>\n",
       "      <td>35001000003</td>\n",
       "      <td>614.0</td>\n",
       "      <td>POLYGON ((-106.64563 35.20161, -106.64560 35.2...</td>\n",
       "    </tr>\n",
       "    <tr>\n",
       "      <th>3</th>\n",
       "      <td>35001000004</td>\n",
       "      <td>35</td>\n",
       "      <td>0.106772</td>\n",
       "      <td>0.000285</td>\n",
       "      <td>3</td>\n",
       "      <td>3</td>\n",
       "      <td>35001000004</td>\n",
       "      <td>822.0</td>\n",
       "      <td>POLYGON ((-106.64074 35.15617, -106.64007 35.1...</td>\n",
       "    </tr>\n",
       "    <tr>\n",
       "      <th>4</th>\n",
       "      <td>35001000005</td>\n",
       "      <td>35</td>\n",
       "      <td>0.113714</td>\n",
       "      <td>0.000334</td>\n",
       "      <td>4</td>\n",
       "      <td>4</td>\n",
       "      <td>35001000005</td>\n",
       "      <td>930.0</td>\n",
       "      <td>POLYGON ((-106.63341 35.17373, -106.63472 35.1...</td>\n",
       "    </tr>\n",
       "  </tbody>\n",
       "</table>\n",
       "</div>"
      ],
      "text/plain": [
       "    block_vtda state  Shape_Leng  Shape_Area  ID  OID_1   block_vt_1   total  \\\n",
       "0  35001000001    35    0.113352    0.000483   0      0  35001000001  2090.0   \n",
       "1  35001000002    35    0.033215    0.000049   1      1  35001000002  1132.0   \n",
       "2  35001000003    35    0.073484    0.000223   2      2  35001000003   614.0   \n",
       "3  35001000004    35    0.106772    0.000285   3      3  35001000004   822.0   \n",
       "4  35001000005    35    0.113714    0.000334   4      4  35001000005   930.0   \n",
       "\n",
       "                                            geometry  \n",
       "0  POLYGON ((-106.74884 35.21799, -106.73141 35.2...  \n",
       "1  POLYGON ((-106.67201 35.21794, -106.67079 35.2...  \n",
       "2  POLYGON ((-106.64563 35.20161, -106.64560 35.2...  \n",
       "3  POLYGON ((-106.64074 35.15617, -106.64007 35.1...  \n",
       "4  POLYGON ((-106.63341 35.17373, -106.63472 35.1...  "
      ]
     },
     "execution_count": 104,
     "metadata": {},
     "output_type": "execute_result"
    }
   ],
   "source": [
    "gdf = gpd.read_file(\"/Users/rebeccawagner/Documents/GitHub/GerryGainMCMC/Data/State Shp Files/NM/s_35_vtd_2020_from_block.shp\")\n",
    "gdf.head()"
   ]
  },
  {
   "cell_type": "code",
   "execution_count": 105,
   "metadata": {},
   "outputs": [
    {
     "data": {
      "text/plain": [
       "<AxesSubplot: >"
      ]
     },
     "execution_count": 105,
     "metadata": {},
     "output_type": "execute_result"
    },
    {
     "data": {
      "image/png": "[encoded data removed]",
      "text/plain": [
       "<Figure size 640x480 with 1 Axes>"
      ]
     },
     "metadata": {},
     "output_type": "display_data"
    }
   ],
   "source": [
    "gdf.plot()"
   ]
  },
  {
   "cell_type": "code",
   "execution_count": 106,
   "metadata": {},
   "outputs": [
    {
     "data": {
      "text/html": [
       "<div>\n",
       "<style scoped>\n",
       "    .dataframe tbody tr th:only-of-type {\n",
       "        vertical-align: middle;\n",
       "    }\n",
       "\n",
       "    .dataframe tbody tr th {\n",
       "        vertical-align: top;\n",
       "    }\n",
       "\n",
       "    .dataframe thead th {\n",
       "        text-align: right;\n",
       "    }\n",
       "</style>\n",
       "<table border=\"1\" class=\"dataframe\">\n",
       "  <thead>\n",
       "    <tr style=\"text-align: right;\">\n",
       "      <th></th>\n",
       "      <th>ID</th>\n",
       "      <th>DISTRICT</th>\n",
       "      <th>POPULATION</th>\n",
       "      <th>Shape_Leng</th>\n",
       "      <th>Shape_Area</th>\n",
       "      <th>sld_u22</th>\n",
       "      <th>geometry</th>\n",
       "    </tr>\n",
       "  </thead>\n",
       "  <tbody>\n",
       "    <tr>\n",
       "      <th>0</th>\n",
       "      <td>1</td>\n",
       "      <td>1</td>\n",
       "      <td>47068</td>\n",
       "      <td>1.544650</td>\n",
       "      <td>0.043527</td>\n",
       "      <td>35001</td>\n",
       "      <td>POLYGON ((-108.20971 36.77147, -108.20960 36.7...</td>\n",
       "    </tr>\n",
       "    <tr>\n",
       "      <th>1</th>\n",
       "      <td>2</td>\n",
       "      <td>10</td>\n",
       "      <td>48840</td>\n",
       "      <td>0.711960</td>\n",
       "      <td>0.007563</td>\n",
       "      <td>35010</td>\n",
       "      <td>POLYGON ((-106.68805 35.13396, -106.68788 35.1...</td>\n",
       "    </tr>\n",
       "    <tr>\n",
       "      <th>2</th>\n",
       "      <td>3</td>\n",
       "      <td>11</td>\n",
       "      <td>50252</td>\n",
       "      <td>0.294066</td>\n",
       "      <td>0.002778</td>\n",
       "      <td>35011</td>\n",
       "      <td>POLYGON ((-106.76026 35.05588, -106.76061 35.0...</td>\n",
       "    </tr>\n",
       "    <tr>\n",
       "      <th>3</th>\n",
       "      <td>4</td>\n",
       "      <td>12</td>\n",
       "      <td>51681</td>\n",
       "      <td>0.367458</td>\n",
       "      <td>0.003731</td>\n",
       "      <td>35012</td>\n",
       "      <td>POLYGON ((-106.72010 35.18397, -106.72067 35.1...</td>\n",
       "    </tr>\n",
       "    <tr>\n",
       "      <th>4</th>\n",
       "      <td>5</td>\n",
       "      <td>13</td>\n",
       "      <td>48663</td>\n",
       "      <td>0.549102</td>\n",
       "      <td>0.005031</td>\n",
       "      <td>35013</td>\n",
       "      <td>POLYGON ((-106.63762 35.04756, -106.63808 35.0...</td>\n",
       "    </tr>\n",
       "  </tbody>\n",
       "</table>\n",
       "</div>"
      ],
      "text/plain": [
       "   ID DISTRICT  POPULATION  Shape_Leng  Shape_Area sld_u22  \\\n",
       "0   1        1       47068    1.544650    0.043527   35001   \n",
       "1   2       10       48840    0.711960    0.007563   35010   \n",
       "2   3       11       50252    0.294066    0.002778   35011   \n",
       "3   4       12       51681    0.367458    0.003731   35012   \n",
       "4   5       13       48663    0.549102    0.005031   35013   \n",
       "\n",
       "                                            geometry  \n",
       "0  POLYGON ((-108.20971 36.77147, -108.20960 36.7...  \n",
       "1  POLYGON ((-106.68805 35.13396, -106.68788 35.1...  \n",
       "2  POLYGON ((-106.76026 35.05588, -106.76061 35.0...  \n",
       "3  POLYGON ((-106.72010 35.18397, -106.72067 35.1...  \n",
       "4  POLYGON ((-106.63762 35.04756, -106.63808 35.0...  "
      ]
     },
     "execution_count": 106,
     "metadata": {},
     "output_type": "execute_result"
    }
   ],
   "source": [
    "gdf_2 = gpd.read_file('/Users/rebeccawagner/Documents/GitHub/GerryGainMCMC/Data/State Shp Files/NM/s_35.shp')\n",
    "gdf_2.head()"
   ]
  },
  {
   "cell_type": "code",
   "execution_count": 107,
   "metadata": {},
   "outputs": [
    {
     "data": {
      "text/plain": [
       "<AxesSubplot: >"
      ]
     },
     "execution_count": 107,
     "metadata": {},
     "output_type": "execute_result"
    },
    {
     "data": {
      "image/png": "[encoded data removed]",
      "text/plain": [
       "<Figure size 640x480 with 1 Axes>"
      ]
     },
     "metadata": {},
     "output_type": "display_data"
    }
   ],
   "source": [
    "gdf_2.plot(column='ID')"
   ]
  },
  {
   "cell_type": "code",
   "execution_count": 124,
   "metadata": {},
   "outputs": [],
   "source": [
    "row = gdf_2.loc[0][['ID','geometry']]"
   ]
  },
  {
   "cell_type": "code",
   "execution_count": 119,
   "metadata": {},
   "outputs": [],
   "source": [
    "new = gpd.GeoDataFrame(columns=['ID','geometry'])"
   ]
  },
  {
   "cell_type": "code",
   "execution_count": 127,
   "metadata": {},
   "outputs": [],
   "source": [
    "for i in range(1977):\n",
    "    new.loc[i] = row"
   ]
  },
  {
   "cell_type": "code",
   "execution_count": 131,
   "metadata": {},
   "outputs": [
    {
     "name": "stderr",
     "output_type": "stream",
     "text": [
      "/var/folders/25/yq9cvx4n7714ymc6mt488mw80000gn/T/ipykernel_98587/1834881829.py:1: UserWarning: CRS mismatch between the CRS of left geometries and the CRS of right geometries.\n",
      "Use `to_crs()` to reproject one of the input geometries to match the CRS of the other.\n",
      "\n",
      "Left CRS: None\n",
      "Right CRS: EPSG:4326\n",
      "\n",
      "  gdf[new.contains(gdf)]\n"
     ]
    },
    {
     "data": {
      "text/html": [
       "<div>\n",
       "<style scoped>\n",
       "    .dataframe tbody tr th:only-of-type {\n",
       "        vertical-align: middle;\n",
       "    }\n",
       "\n",
       "    .dataframe tbody tr th {\n",
       "        vertical-align: top;\n",
       "    }\n",
       "\n",
       "    .dataframe thead th {\n",
       "        text-align: right;\n",
       "    }\n",
       "</style>\n",
       "<table border=\"1\" class=\"dataframe\">\n",
       "  <thead>\n",
       "    <tr style=\"text-align: right;\">\n",
       "      <th></th>\n",
       "      <th>block_vtda</th>\n",
       "      <th>state</th>\n",
       "      <th>Shape_Leng</th>\n",
       "      <th>Shape_Area</th>\n",
       "      <th>ID</th>\n",
       "      <th>OID_1</th>\n",
       "      <th>block_vt_1</th>\n",
       "      <th>total</th>\n",
       "      <th>geometry</th>\n",
       "    </tr>\n",
       "  </thead>\n",
       "  <tbody>\n",
       "    <tr>\n",
       "      <th>1538</th>\n",
       "      <td>35045000019</td>\n",
       "      <td>35</td>\n",
       "      <td>0.413441</td>\n",
       "      <td>0.007267</td>\n",
       "      <td>1538</td>\n",
       "      <td>1538</td>\n",
       "      <td>35045000019</td>\n",
       "      <td>806.0</td>\n",
       "      <td>POLYGON ((-108.20613 36.70594, -108.20601 36.7...</td>\n",
       "    </tr>\n",
       "    <tr>\n",
       "      <th>1540</th>\n",
       "      <td>35045000021</td>\n",
       "      <td>35</td>\n",
       "      <td>0.831866</td>\n",
       "      <td>0.025262</td>\n",
       "      <td>1540</td>\n",
       "      <td>1540</td>\n",
       "      <td>35045000021</td>\n",
       "      <td>1624.0</td>\n",
       "      <td>POLYGON ((-108.49078 36.85026, -108.48770 36.8...</td>\n",
       "    </tr>\n",
       "    <tr>\n",
       "      <th>1541</th>\n",
       "      <td>35045000022</td>\n",
       "      <td>35</td>\n",
       "      <td>0.169255</td>\n",
       "      <td>0.000724</td>\n",
       "      <td>1541</td>\n",
       "      <td>1541</td>\n",
       "      <td>35045000022</td>\n",
       "      <td>1548.0</td>\n",
       "      <td>POLYGON ((-108.36729 36.76501, -108.36678 36.7...</td>\n",
       "    </tr>\n",
       "    <tr>\n",
       "      <th>1542</th>\n",
       "      <td>35045000023</td>\n",
       "      <td>35</td>\n",
       "      <td>0.164378</td>\n",
       "      <td>0.000716</td>\n",
       "      <td>1542</td>\n",
       "      <td>1542</td>\n",
       "      <td>35045000023</td>\n",
       "      <td>1422.0</td>\n",
       "      <td>POLYGON ((-108.40295 36.75319, -108.40231 36.7...</td>\n",
       "    </tr>\n",
       "    <tr>\n",
       "      <th>1544</th>\n",
       "      <td>35045000025</td>\n",
       "      <td>35</td>\n",
       "      <td>0.141084</td>\n",
       "      <td>0.000594</td>\n",
       "      <td>1544</td>\n",
       "      <td>1544</td>\n",
       "      <td>35045000025</td>\n",
       "      <td>1021.0</td>\n",
       "      <td>POLYGON ((-108.28778 36.73111, -108.28778 36.7...</td>\n",
       "    </tr>\n",
       "    <tr>\n",
       "      <th>1545</th>\n",
       "      <td>35045000026</td>\n",
       "      <td>35</td>\n",
       "      <td>0.149852</td>\n",
       "      <td>0.001194</td>\n",
       "      <td>1545</td>\n",
       "      <td>1545</td>\n",
       "      <td>35045000026</td>\n",
       "      <td>1005.0</td>\n",
       "      <td>POLYGON ((-108.30338 36.76381, -108.30326 36.7...</td>\n",
       "    </tr>\n",
       "    <tr>\n",
       "      <th>1546</th>\n",
       "      <td>35045000027</td>\n",
       "      <td>35</td>\n",
       "      <td>0.156963</td>\n",
       "      <td>0.000855</td>\n",
       "      <td>1546</td>\n",
       "      <td>1546</td>\n",
       "      <td>35045000027</td>\n",
       "      <td>1989.0</td>\n",
       "      <td>POLYGON ((-108.28589 36.76360, -108.28444 36.7...</td>\n",
       "    </tr>\n",
       "    <tr>\n",
       "      <th>1547</th>\n",
       "      <td>35045000028</td>\n",
       "      <td>35</td>\n",
       "      <td>0.042916</td>\n",
       "      <td>0.000101</td>\n",
       "      <td>1547</td>\n",
       "      <td>1547</td>\n",
       "      <td>35045000028</td>\n",
       "      <td>1059.0</td>\n",
       "      <td>POLYGON ((-108.20528 36.74844, -108.20398 36.7...</td>\n",
       "    </tr>\n",
       "    <tr>\n",
       "      <th>1548</th>\n",
       "      <td>35045000029</td>\n",
       "      <td>35</td>\n",
       "      <td>0.042869</td>\n",
       "      <td>0.000080</td>\n",
       "      <td>1548</td>\n",
       "      <td>1548</td>\n",
       "      <td>35045000029</td>\n",
       "      <td>982.0</td>\n",
       "      <td>POLYGON ((-108.20645 36.74122, -108.20636 36.7...</td>\n",
       "    </tr>\n",
       "    <tr>\n",
       "      <th>1549</th>\n",
       "      <td>35045000030</td>\n",
       "      <td>35</td>\n",
       "      <td>0.054302</td>\n",
       "      <td>0.000145</td>\n",
       "      <td>1549</td>\n",
       "      <td>1549</td>\n",
       "      <td>35045000030</td>\n",
       "      <td>1395.0</td>\n",
       "      <td>POLYGON ((-108.21226 36.75522, -108.21176 36.7...</td>\n",
       "    </tr>\n",
       "    <tr>\n",
       "      <th>1550</th>\n",
       "      <td>35045000031</td>\n",
       "      <td>35</td>\n",
       "      <td>0.049422</td>\n",
       "      <td>0.000125</td>\n",
       "      <td>1550</td>\n",
       "      <td>1550</td>\n",
       "      <td>35045000031</td>\n",
       "      <td>678.0</td>\n",
       "      <td>POLYGON ((-108.19849 36.76550, -108.19877 36.7...</td>\n",
       "    </tr>\n",
       "    <tr>\n",
       "      <th>1551</th>\n",
       "      <td>35045000032</td>\n",
       "      <td>35</td>\n",
       "      <td>0.033082</td>\n",
       "      <td>0.000066</td>\n",
       "      <td>1551</td>\n",
       "      <td>1551</td>\n",
       "      <td>35045000032</td>\n",
       "      <td>927.0</td>\n",
       "      <td>POLYGON ((-108.20202 36.75568, -108.20148 36.7...</td>\n",
       "    </tr>\n",
       "    <tr>\n",
       "      <th>1552</th>\n",
       "      <td>35045000033</td>\n",
       "      <td>35</td>\n",
       "      <td>0.044125</td>\n",
       "      <td>0.000086</td>\n",
       "      <td>1552</td>\n",
       "      <td>1552</td>\n",
       "      <td>35045000033</td>\n",
       "      <td>1531.0</td>\n",
       "      <td>POLYGON ((-108.20101 36.74841, -108.20059 36.7...</td>\n",
       "    </tr>\n",
       "    <tr>\n",
       "      <th>1553</th>\n",
       "      <td>35045000034</td>\n",
       "      <td>35</td>\n",
       "      <td>0.053588</td>\n",
       "      <td>0.000108</td>\n",
       "      <td>1553</td>\n",
       "      <td>1553</td>\n",
       "      <td>35045000034</td>\n",
       "      <td>1133.0</td>\n",
       "      <td>POLYGON ((-108.21413 36.73397, -108.21388 36.7...</td>\n",
       "    </tr>\n",
       "    <tr>\n",
       "      <th>1554</th>\n",
       "      <td>35045000035</td>\n",
       "      <td>35</td>\n",
       "      <td>0.112105</td>\n",
       "      <td>0.000299</td>\n",
       "      <td>1554</td>\n",
       "      <td>1554</td>\n",
       "      <td>35045000035</td>\n",
       "      <td>1406.0</td>\n",
       "      <td>POLYGON ((-108.18700 36.74296, -108.18669 36.7...</td>\n",
       "    </tr>\n",
       "    <tr>\n",
       "      <th>1555</th>\n",
       "      <td>35045000036</td>\n",
       "      <td>35</td>\n",
       "      <td>0.036543</td>\n",
       "      <td>0.000064</td>\n",
       "      <td>1555</td>\n",
       "      <td>1555</td>\n",
       "      <td>35045000036</td>\n",
       "      <td>935.0</td>\n",
       "      <td>POLYGON ((-108.18191 36.74823, -108.18192 36.7...</td>\n",
       "    </tr>\n",
       "    <tr>\n",
       "      <th>1556</th>\n",
       "      <td>35045000037</td>\n",
       "      <td>35</td>\n",
       "      <td>0.027341</td>\n",
       "      <td>0.000047</td>\n",
       "      <td>1556</td>\n",
       "      <td>1556</td>\n",
       "      <td>35045000037</td>\n",
       "      <td>1026.0</td>\n",
       "      <td>POLYGON ((-108.19436 36.74821, -108.19426 36.7...</td>\n",
       "    </tr>\n",
       "    <tr>\n",
       "      <th>1557</th>\n",
       "      <td>35045000038</td>\n",
       "      <td>35</td>\n",
       "      <td>0.041092</td>\n",
       "      <td>0.000098</td>\n",
       "      <td>1557</td>\n",
       "      <td>1557</td>\n",
       "      <td>35045000038</td>\n",
       "      <td>1756.0</td>\n",
       "      <td>POLYGON ((-108.18467 36.75565, -108.18466 36.7...</td>\n",
       "    </tr>\n",
       "    <tr>\n",
       "      <th>1558</th>\n",
       "      <td>35045000039</td>\n",
       "      <td>35</td>\n",
       "      <td>0.043709</td>\n",
       "      <td>0.000113</td>\n",
       "      <td>1558</td>\n",
       "      <td>1558</td>\n",
       "      <td>35045000039</td>\n",
       "      <td>1165.0</td>\n",
       "      <td>POLYGON ((-108.18526 36.77374, -108.18524 36.7...</td>\n",
       "    </tr>\n",
       "    <tr>\n",
       "      <th>1559</th>\n",
       "      <td>35045000040</td>\n",
       "      <td>35</td>\n",
       "      <td>0.046356</td>\n",
       "      <td>0.000137</td>\n",
       "      <td>1559</td>\n",
       "      <td>1559</td>\n",
       "      <td>35045000040</td>\n",
       "      <td>1530.0</td>\n",
       "      <td>POLYGON ((-108.16053 36.75899, -108.15961 36.7...</td>\n",
       "    </tr>\n",
       "    <tr>\n",
       "      <th>1562</th>\n",
       "      <td>35045000043</td>\n",
       "      <td>35</td>\n",
       "      <td>0.043710</td>\n",
       "      <td>0.000115</td>\n",
       "      <td>1562</td>\n",
       "      <td>1562</td>\n",
       "      <td>35045000043</td>\n",
       "      <td>1378.0</td>\n",
       "      <td>POLYGON ((-108.17467 36.75610, -108.17453 36.7...</td>\n",
       "    </tr>\n",
       "    <tr>\n",
       "      <th>1564</th>\n",
       "      <td>35045000045</td>\n",
       "      <td>35</td>\n",
       "      <td>0.052350</td>\n",
       "      <td>0.000133</td>\n",
       "      <td>1564</td>\n",
       "      <td>1564</td>\n",
       "      <td>35045000045</td>\n",
       "      <td>2132.0</td>\n",
       "      <td>POLYGON ((-108.17515 36.74817, -108.17455 36.7...</td>\n",
       "    </tr>\n",
       "    <tr>\n",
       "      <th>1565</th>\n",
       "      <td>35045000046</td>\n",
       "      <td>35</td>\n",
       "      <td>0.093892</td>\n",
       "      <td>0.000444</td>\n",
       "      <td>1565</td>\n",
       "      <td>1565</td>\n",
       "      <td>35045000046</td>\n",
       "      <td>1405.0</td>\n",
       "      <td>POLYGON ((-108.16951 36.77682, -108.16867 36.7...</td>\n",
       "    </tr>\n",
       "    <tr>\n",
       "      <th>1568</th>\n",
       "      <td>35045000049</td>\n",
       "      <td>35</td>\n",
       "      <td>0.057314</td>\n",
       "      <td>0.000158</td>\n",
       "      <td>1568</td>\n",
       "      <td>1568</td>\n",
       "      <td>35045000049</td>\n",
       "      <td>1424.0</td>\n",
       "      <td>POLYGON ((-108.16450 36.77680, -108.16368 36.7...</td>\n",
       "    </tr>\n",
       "    <tr>\n",
       "      <th>1569</th>\n",
       "      <td>35045000050</td>\n",
       "      <td>35</td>\n",
       "      <td>0.132842</td>\n",
       "      <td>0.000461</td>\n",
       "      <td>1569</td>\n",
       "      <td>1569</td>\n",
       "      <td>35045000050</td>\n",
       "      <td>2445.0</td>\n",
       "      <td>POLYGON ((-108.21770 36.72907, -108.21736 36.7...</td>\n",
       "    </tr>\n",
       "    <tr>\n",
       "      <th>1570</th>\n",
       "      <td>35045000051</td>\n",
       "      <td>35</td>\n",
       "      <td>0.122491</td>\n",
       "      <td>0.000490</td>\n",
       "      <td>1570</td>\n",
       "      <td>1570</td>\n",
       "      <td>35045000051</td>\n",
       "      <td>1917.0</td>\n",
       "      <td>POLYGON ((-108.16678 36.73614, -108.16701 36.7...</td>\n",
       "    </tr>\n",
       "    <tr>\n",
       "      <th>1571</th>\n",
       "      <td>35045000052</td>\n",
       "      <td>35</td>\n",
       "      <td>0.179458</td>\n",
       "      <td>0.000627</td>\n",
       "      <td>1571</td>\n",
       "      <td>1571</td>\n",
       "      <td>35045000052</td>\n",
       "      <td>945.0</td>\n",
       "      <td>POLYGON ((-108.16122 36.71921, -108.16109 36.7...</td>\n",
       "    </tr>\n",
       "    <tr>\n",
       "      <th>1572</th>\n",
       "      <td>35045000053</td>\n",
       "      <td>35</td>\n",
       "      <td>0.084100</td>\n",
       "      <td>0.000244</td>\n",
       "      <td>1572</td>\n",
       "      <td>1572</td>\n",
       "      <td>35045000053</td>\n",
       "      <td>1420.0</td>\n",
       "      <td>POLYGON ((-108.20268 36.72003, -108.20269 36.7...</td>\n",
       "    </tr>\n",
       "    <tr>\n",
       "      <th>1575</th>\n",
       "      <td>35045000056</td>\n",
       "      <td>35</td>\n",
       "      <td>0.095404</td>\n",
       "      <td>0.000452</td>\n",
       "      <td>1575</td>\n",
       "      <td>1575</td>\n",
       "      <td>35045000056</td>\n",
       "      <td>1631.0</td>\n",
       "      <td>POLYGON ((-108.13080 36.72833, -108.13107 36.7...</td>\n",
       "    </tr>\n",
       "    <tr>\n",
       "      <th>1607</th>\n",
       "      <td>35045000105</td>\n",
       "      <td>35</td>\n",
       "      <td>0.095360</td>\n",
       "      <td>0.000362</td>\n",
       "      <td>1607</td>\n",
       "      <td>1607</td>\n",
       "      <td>35045000105</td>\n",
       "      <td>1089.0</td>\n",
       "      <td>POLYGON ((-108.18583 36.71944, -108.18558 36.7...</td>\n",
       "    </tr>\n",
       "    <tr>\n",
       "      <th>1608</th>\n",
       "      <td>35045000106</td>\n",
       "      <td>35</td>\n",
       "      <td>0.041045</td>\n",
       "      <td>0.000061</td>\n",
       "      <td>1608</td>\n",
       "      <td>1608</td>\n",
       "      <td>35045000106</td>\n",
       "      <td>954.0</td>\n",
       "      <td>POLYGON ((-108.19954 36.76383, -108.19954 36.7...</td>\n",
       "    </tr>\n",
       "    <tr>\n",
       "      <th>1609</th>\n",
       "      <td>35045000107</td>\n",
       "      <td>35</td>\n",
       "      <td>0.075108</td>\n",
       "      <td>0.000176</td>\n",
       "      <td>1609</td>\n",
       "      <td>1609</td>\n",
       "      <td>35045000107</td>\n",
       "      <td>1348.0</td>\n",
       "      <td>POLYGON ((-108.21121 36.76449, -108.21122 36.7...</td>\n",
       "    </tr>\n",
       "    <tr>\n",
       "      <th>1611</th>\n",
       "      <td>35045000109</td>\n",
       "      <td>35</td>\n",
       "      <td>0.110533</td>\n",
       "      <td>0.000652</td>\n",
       "      <td>1611</td>\n",
       "      <td>1611</td>\n",
       "      <td>35045000109</td>\n",
       "      <td>1402.0</td>\n",
       "      <td>POLYGON ((-108.23350 36.75595, -108.23317 36.7...</td>\n",
       "    </tr>\n",
       "    <tr>\n",
       "      <th>1612</th>\n",
       "      <td>35045000110</td>\n",
       "      <td>35</td>\n",
       "      <td>0.104168</td>\n",
       "      <td>0.000510</td>\n",
       "      <td>1612</td>\n",
       "      <td>1612</td>\n",
       "      <td>35045000110</td>\n",
       "      <td>1730.0</td>\n",
       "      <td>POLYGON ((-108.24001 36.76349, -108.24009 36.7...</td>\n",
       "    </tr>\n",
       "    <tr>\n",
       "      <th>1614</th>\n",
       "      <td>35045000121</td>\n",
       "      <td>35</td>\n",
       "      <td>0.112820</td>\n",
       "      <td>0.000445</td>\n",
       "      <td>1614</td>\n",
       "      <td>1614</td>\n",
       "      <td>35045000121</td>\n",
       "      <td>910.0</td>\n",
       "      <td>POLYGON ((-108.31656 36.76387, -108.31374 36.7...</td>\n",
       "    </tr>\n",
       "  </tbody>\n",
       "</table>\n",
       "</div>"
      ],
      "text/plain": [
       "       block_vtda state  Shape_Leng  Shape_Area    ID  OID_1   block_vt_1  \\\n",
       "1538  35045000019    35    0.413441    0.007267  1538   1538  35045000019   \n",
       "1540  35045000021    35    0.831866    0.025262  1540   1540  35045000021   \n",
       "1541  35045000022    35    0.169255    0.000724  1541   1541  35045000022   \n",
       "1542  35045000023    35    0.164378    0.000716  1542   1542  35045000023   \n",
       "1544  35045000025    35    0.141084    0.000594  1544   1544  35045000025   \n",
       "1545  35045000026    35    0.149852    0.001194  1545   1545  35045000026   \n",
       "1546  35045000027    35    0.156963    0.000855  1546   1546  35045000027   \n",
       "1547  35045000028    35    0.042916    0.000101  1547   1547  35045000028   \n",
       "1548  35045000029    35    0.042869    0.000080  1548   1548  35045000029   \n",
       "1549  35045000030    35    0.054302    0.000145  1549   1549  35045000030   \n",
       "1550  35045000031    35    0.049422    0.000125  1550   1550  35045000031   \n",
       "1551  35045000032    35    0.033082    0.000066  1551   1551  35045000032   \n",
       "1552  35045000033    35    0.044125    0.000086  1552   1552  35045000033   \n",
       "1553  35045000034    35    0.053588    0.000108  1553   1553  35045000034   \n",
       "1554  35045000035    35    0.112105    0.000299  1554   1554  35045000035   \n",
       "1555  35045000036    35    0.036543    0.000064  1555   1555  35045000036   \n",
       "1556  35045000037    35    0.027341    0.000047  1556   1556  35045000037   \n",
       "1557  35045000038    35    0.041092    0.000098  1557   1557  35045000038   \n",
       "1558  35045000039    35    0.043709    0.000113  1558   1558  35045000039   \n",
       "1559  35045000040    35    0.046356    0.000137  1559   1559  35045000040   \n",
       "1562  35045000043    35    0.043710    0.000115  1562   1562  35045000043   \n",
       "1564  35045000045    35    0.052350    0.000133  1564   1564  35045000045   \n",
       "1565  35045000046    35    0.093892    0.000444  1565   1565  35045000046   \n",
       "1568  35045000049    35    0.057314    0.000158  1568   1568  35045000049   \n",
       "1569  35045000050    35    0.132842    0.000461  1569   1569  35045000050   \n",
       "1570  35045000051    35    0.122491    0.000490  1570   1570  35045000051   \n",
       "1571  35045000052    35    0.179458    0.000627  1571   1571  35045000052   \n",
       "1572  35045000053    35    0.084100    0.000244  1572   1572  35045000053   \n",
       "1575  35045000056    35    0.095404    0.000452  1575   1575  35045000056   \n",
       "1607  35045000105    35    0.095360    0.000362  1607   1607  35045000105   \n",
       "1608  35045000106    35    0.041045    0.000061  1608   1608  35045000106   \n",
       "1609  35045000107    35    0.075108    0.000176  1609   1609  35045000107   \n",
       "1611  35045000109    35    0.110533    0.000652  1611   1611  35045000109   \n",
       "1612  35045000110    35    0.104168    0.000510  1612   1612  35045000110   \n",
       "1614  35045000121    35    0.112820    0.000445  1614   1614  35045000121   \n",
       "\n",
       "       total                                           geometry  \n",
       "1538   806.0  POLYGON ((-108.20613 36.70594, -108.20601 36.7...  \n",
       "1540  1624.0  POLYGON ((-108.49078 36.85026, -108.48770 36.8...  \n",
       "1541  1548.0  POLYGON ((-108.36729 36.76501, -108.36678 36.7...  \n",
       "1542  1422.0  POLYGON ((-108.40295 36.75319, -108.40231 36.7...  \n",
       "1544  1021.0  POLYGON ((-108.28778 36.73111, -108.28778 36.7...  \n",
       "1545  1005.0  POLYGON ((-108.30338 36.76381, -108.30326 36.7...  \n",
       "1546  1989.0  POLYGON ((-108.28589 36.76360, -108.28444 36.7...  \n",
       "1547  1059.0  POLYGON ((-108.20528 36.74844, -108.20398 36.7...  \n",
       "1548   982.0  POLYGON ((-108.20645 36.74122, -108.20636 36.7...  \n",
       "1549  1395.0  POLYGON ((-108.21226 36.75522, -108.21176 36.7...  \n",
       "1550   678.0  POLYGON ((-108.19849 36.76550, -108.19877 36.7...  \n",
       "1551   927.0  POLYGON ((-108.20202 36.75568, -108.20148 36.7...  \n",
       "1552  1531.0  POLYGON ((-108.20101 36.74841, -108.20059 36.7...  \n",
       "1553  1133.0  POLYGON ((-108.21413 36.73397, -108.21388 36.7...  \n",
       "1554  1406.0  POLYGON ((-108.18700 36.74296, -108.18669 36.7...  \n",
       "1555   935.0  POLYGON ((-108.18191 36.74823, -108.18192 36.7...  \n",
       "1556  1026.0  POLYGON ((-108.19436 36.74821, -108.19426 36.7...  \n",
       "1557  1756.0  POLYGON ((-108.18467 36.75565, -108.18466 36.7...  \n",
       "1558  1165.0  POLYGON ((-108.18526 36.77374, -108.18524 36.7...  \n",
       "1559  1530.0  POLYGON ((-108.16053 36.75899, -108.15961 36.7...  \n",
       "1562  1378.0  POLYGON ((-108.17467 36.75610, -108.17453 36.7...  \n",
       "1564  2132.0  POLYGON ((-108.17515 36.74817, -108.17455 36.7...  \n",
       "1565  1405.0  POLYGON ((-108.16951 36.77682, -108.16867 36.7...  \n",
       "1568  1424.0  POLYGON ((-108.16450 36.77680, -108.16368 36.7...  \n",
       "1569  2445.0  POLYGON ((-108.21770 36.72907, -108.21736 36.7...  \n",
       "1570  1917.0  POLYGON ((-108.16678 36.73614, -108.16701 36.7...  \n",
       "1571   945.0  POLYGON ((-108.16122 36.71921, -108.16109 36.7...  \n",
       "1572  1420.0  POLYGON ((-108.20268 36.72003, -108.20269 36.7...  \n",
       "1575  1631.0  POLYGON ((-108.13080 36.72833, -108.13107 36.7...  \n",
       "1607  1089.0  POLYGON ((-108.18583 36.71944, -108.18558 36.7...  \n",
       "1608   954.0  POLYGON ((-108.19954 36.76383, -108.19954 36.7...  \n",
       "1609  1348.0  POLYGON ((-108.21121 36.76449, -108.21122 36.7...  \n",
       "1611  1402.0  POLYGON ((-108.23350 36.75595, -108.23317 36.7...  \n",
       "1612  1730.0  POLYGON ((-108.24001 36.76349, -108.24009 36.7...  \n",
       "1614   910.0  POLYGON ((-108.31656 36.76387, -108.31374 36.7...  "
      ]
     },
     "execution_count": 131,
     "metadata": {},
     "output_type": "execute_result"
    }
   ],
   "source": [
    "gdf[new.contains(gdf)]"
   ]
  },
  {
   "cell_type": "markdown",
   "metadata": {},
   "source": [
    "# Restart Chain"
   ]
  },
  {
   "cell_type": "code",
   "execution_count": 12,
   "metadata": {},
   "outputs": [],
   "source": [
    "def get_next_partition(original_file:str, last_output:str, original_mapping:str, vtd_column:str):\n",
    "\n",
    "    iterations = pd.read_csv(last_output)\n",
    "    last_column = str(len(iterations.columns) - 1)\n",
    "    replace_with = iterations[['Iteration',last_column]]\n",
    "\n",
    "    original = gpd.read_file(original_file)\n",
    "    new_frame = original.merge(replace_with,left_on=vtd_column,right_on='Iteration').drop(original_mapping,axis=1).rename(columns={last_column:'District'})\n",
    "\n",
    "    return new_frame\n"
   ]
  },
  {
   "cell_type": "code",
   "execution_count": 13,
   "metadata": {},
   "outputs": [],
   "source": [
    "new_frame = get_next_partition(original_file='/Users/rebeccawagner/Documents/GitHub/GerryGainMCMC/Data/State Shp Files/AL/Alabama_VTD_District_Intersection.shp',last_output='/Users/rebeccawagner/Documents/GitHub/GerryGainMCMC/test_output',original_mapping='cd_117',vtd_column='VTD')"
   ]
  },
  {
   "cell_type": "code",
   "execution_count": 19,
   "metadata": {},
   "outputs": [
    {
     "name": "stderr",
     "output_type": "stream",
     "text": [
      "/Users/rebeccawagner/opt/anaconda3/envs/gerry/lib/python3.10/site-packages/gerrychain/graph/adjacency.py:21: ShapelyDeprecationWarning: Setting custom attributes on geometry objects is deprecated, and will raise an AttributeError in Shapely 2.0\n",
      "  geometries[i].id = i\n",
      "/Users/rebeccawagner/opt/anaconda3/envs/gerry/lib/python3.10/site-packages/gerrychain/graph/adjacency.py:23: ShapelyDeprecationWarning: STRtree will be changed in 2.0.0 and will not be compatible with versions < 2.\n",
      "  tree = STRtree(geometries)\n",
      "/Users/rebeccawagner/opt/anaconda3/envs/gerry/lib/python3.10/site-packages/gerrychain/graph/graph.py:162: UserWarning: Geometry is in a geographic CRS. Results from 'area' are likely incorrect. Use 'GeoSeries.to_crs()' to re-project geometries to a projected CRS before this operation.\n",
      "\n",
      "  areas = df.geometry.area.to_dict()\n",
      "/Users/rebeccawagner/opt/anaconda3/envs/gerry/lib/python3.10/site-packages/gerrychain/graph/graph.py:272: UserWarning: NA values found in column last!\n",
      "  warnings.warn(\"NA values found in column {}!\".format(column))\n",
      "/Users/rebeccawagner/opt/anaconda3/envs/gerry/lib/python3.10/site-packages/gerrychain/graph/graph.py:272: UserWarning: NA values found in column first!\n",
      "  warnings.warn(\"NA values found in column {}!\".format(column))\n",
      "/Users/rebeccawagner/opt/anaconda3/envs/gerry/lib/python3.10/site-packages/gerrychain/graph/graph.py:272: UserWarning: NA values found in column middle!\n",
      "  warnings.warn(\"NA values found in column {}!\".format(column))\n",
      "/Users/rebeccawagner/opt/anaconda3/envs/gerry/lib/python3.10/site-packages/gerrychain/graph/graph.py:272: UserWarning: NA values found in column race!\n",
      "  warnings.warn(\"NA values found in column {}!\".format(column))\n"
     ]
    }
   ],
   "source": [
    "test_chain.update_partition(new_gdf=new_frame, grouping_assignment_column='District',updaters=test_chain.get_updaters())"
   ]
  },
  {
   "cell_type": "code",
   "execution_count": null,
   "metadata": {},
   "outputs": [],
   "source": []
  }
 ],
 "metadata": {
  "kernelspec": {
   "display_name": "gerry",
   "language": "python",
   "name": "python3"
  },
  "language_info": {
   "codemirror_mode": {
    "name": "ipython",
    "version": 3
   },
   "file_extension": ".py",
   "mimetype": "text/x-python",
   "name": "python",
   "nbconvert_exporter": "python",
   "pygments_lexer": "ipython3",
   "version": "3.10.6"
  },
  "orig_nbformat": 4
 },
 "nbformat": 4,
 "nbformat_minor": 2
}
