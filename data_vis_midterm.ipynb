{
 "metadata": {
  "language_info": {
   "codemirror_mode": {
    "name": "ipython",
    "version": 3
   },
   "file_extension": ".py",
   "mimetype": "text/x-python",
   "name": "python",
   "nbconvert_exporter": "python",
   "pygments_lexer": "ipython3",
   "version": "3.10.6-final"
  },
  "orig_nbformat": 2,
  "kernelspec": {
   "name": "python3",
   "display_name": "Python 3.10.6 64-bit ('gerry': conda)",
   "metadata": {
    "interpreter": {
     "hash": "57a52c33c8b4d487a8f48da2f7fd8584b95502494c696b1d14b96b58826bff58"
    }
   }
  }
 },
 "nbformat": 4,
 "nbformat_minor": 2,
 "cells": [
  {
   "cell_type": "code",
   "execution_count": null,
   "metadata": {},
   "outputs": [],
   "source": [
    "# Midterm Q: How does a segregation score help determine if a congressional district is racially gerrymandered? How can we visualize this? \n",
    "# Data from Sal ty Sal.\n",
    "\n",
    "# We would like the user to be able to select from VTDs and create their own legeslative district in the state of Virginia. They would reicieve stats on the population, compactness, and S+/- score of their disctrict.\n",
    "import pandas as pd"
   ]
  },
  {
   "source": [
    "This link takes you to a preliminary interface where users can select their districts\n",
    "\n",
    "https://wm-gis.maps.arcgis.com/home/item.html?id=1938f79f1a9b4bac9c50fff09d17b662\n"
   ],
   "cell_type": "markdown",
   "metadata": {}
  },
  {
   "cell_type": "code",
   "execution_count": null,
   "metadata": {},
   "outputs": [],
   "source": [
    "# The following is an example of calculating S+/- scores\n",
    " \n",
    "# Get the column names bc I did not copy them over from original data to state data csv\n",
    "# It does not include block_geoid_end, but thats not a necessary column. \n",
    "header = pd.read_csv('/Users/rebeccawagner/Documents/GitHub/GerryGainMCMC/local_environments_US.csv', index_col=0, nrows=0).columns.tolist()\n",
    "\n",
    "# Get the data for local environments of VA census blocks \n",
    "# For some states with FIPS that have leading 0s, we need the dtype parameter. Not here, but for the future I left it.\n",
    "# Reset the index to overwrite block_geoid_end with regular indecies\n",
    "VA_data = pd.read_csv('/Users/rebeccawagner/Documents/GitHub/GerryGainMCMC/state_environs/VA_LE', names = header, dtype={'block_geoid_start':str}).reset_index(drop=True)"
   ]
  },
  {
   "cell_type": "code",
   "execution_count": null,
   "metadata": {},
   "outputs": [],
   "source": [
    "VA_data"
   ]
  },
  {
   "cell_type": "code",
   "execution_count": null,
   "metadata": {},
   "outputs": [],
   "source": [
    "# We only need these columns to create a S+/- score:\n",
    "    # block_geoid_start = census block\n",
    "    # rn_total_sl_dist = population of block's local environment\n",
    "    # rn_nh_black_sl_dist = black population of block's local environment\n",
    "    # total = population of block\n",
    "    # nh_black = black population of block \n",
    "\n",
    "VA_data.info()"
   ]
  },
  {
   "cell_type": "code",
   "execution_count": null,
   "metadata": {},
   "outputs": [],
   "source": [
    "# Subset the columns we need\n",
    "VA_data_score = VA_data[['block_geoid_start', 'rn_total_sl_dist', 'rn_nh_black_sl_dist', 'total', 'nh_black']]\n",
    "VA_data_score"
   ]
  },
  {
   "cell_type": "code",
   "execution_count": null,
   "metadata": {},
   "outputs": [],
   "source": [
    "# Create the percentages we need\n",
    "\n",
    "# Calculate the percentage of racial group m (black) in the local environment of the census block\n",
    "# running total black / running total \n",
    "VA_data_score['pct_m_le'] = VA_data_score['rn_nh_black_sl_dist']/VA_data_score['rn_total_sl_dist']*100\n",
    "\n",
    "# Weight this percent by the number of people in the census block\n",
    "# weighted_m_le * total\n",
    "VA_data_score['weighted_pct_m_le'] = VA_data_score['pct_m_le'] * VA_data_score['total']\n",
    "\n",
    "# Calculate the percent of racial group m (black) in each block\n",
    "VA_data_score['pct_black_block'] = VA_data_score['nh_black']/VA_data_score['total']*100\n",
    "\n",
    "VA_data_score"
   ]
  },
  {
   "cell_type": "code",
   "execution_count": null,
   "metadata": {},
   "outputs": [],
   "source": [
    "# Now we have all the data points we need to create S+/- scores for any combination of census blocks. In our case, we would like to use VTDs to create S+/- scores, so we will need to know which blocks are in each VTD and aggregate that data. \n",
    "\n",
    "# Let's run a toy example with the first 20 census blocks in VA. \n",
    "toy_example = VA_data_score.head(20)\n",
    "\n",
    "# Pretend the first 10 blocks are in VTD 1 and the next 10 blocks are in VTD 2. Add this column for reference.\n",
    "example_VTDs = [1] * 10 + [2] * 10\n",
    "toy_example.insert(1,'VTD',example_VTDs)\n",
    "\n",
    "toy_example"
   ]
  },
  {
   "cell_type": "code",
   "execution_count": null,
   "metadata": {},
   "outputs": [],
   "source": [
    "# Total population in VTD 1\n",
    "VTD_1_total = toy_example.loc[toy_example['VTD']==1,'total'].sum()\n",
    "# Total black population in VTD 1\n",
    "VTD_1_black_total = toy_example.loc[toy_example['VTD']==1,'nh_black'].sum()\n",
    "# Total weighted black population in LE of VTD 1 \n",
    "VTD_1_weighted_pct_m_le = toy_example.loc[toy_example['VTD']==1, 'weighted_pct_m_le'].sum()\n",
    "# Percent of group m (black) in VTD 1\n",
    "VTD_1_pct_black_block = (VTD_1_black_total/VTD_1_total) * 100\n",
    "\n",
    "# Total population in VTD 2\n",
    "VTD_2_total = toy_example.loc[toy_example['VTD']==2,'total'].sum()\n",
    "# Total black population in VTD 2\n",
    "VTD_2_black_total = toy_example.loc[toy_example['VTD']==2,'nh_black'].sum()\n",
    "# Total weighted black population in LE of VTD 2\n",
    "VTD_2_weighted_pct_m_le = toy_example.loc[toy_example['VTD']==2, 'weighted_pct_m_le'].sum()\n",
    "# Percent of group m (black) in VTD 2\n",
    "VTD_2_pct_black_block = (VTD_2_black_total/VTD_2_total) * 100"
   ]
  },
  {
   "cell_type": "code",
   "execution_count": null,
   "metadata": {},
   "outputs": [],
   "source": [
    "# Calculate S+/- for just VTD 1\n",
    "# Divide sum of weighted percent population m in LE by total population in district \n",
    "# and subtract from percentage of people in districct who are members of group m\n",
    "VTD_1_score = VTD_1_pct_black_block - (VTD_1_weighted_pct_m_le/VTD_1_total)\n",
    "\n",
    "# Calculate S+/- for just VTD 2\n",
    "VTD_2_score = VTD_2_pct_black_block - (VTD_2_weighted_pct_m_le/VTD_2_total)\n",
    "\n",
    "(VTD_1_score, VTD_2_score)"
   ]
  },
  {
   "cell_type": "code",
   "execution_count": null,
   "metadata": {},
   "outputs": [],
   "source": [
    "# Now say we select both VTDs. What is the S+/- score then?\n",
    "\n",
    "# Total population in district\n",
    "district_total = VTD_1_total + VTD_2_total\n",
    "# Total black population in district \n",
    "district_black_total = VTD_1_black_total + VTD_2_black_total\n",
    "# Total weighted black population in LE of district\n",
    "district_weighted_pct_m_le = VTD_1_weighted_pct_m_le + VTD_2_weighted_pct_m_le\n",
    "# Percent of group m (black) in district\n",
    "district_pct_black_block = (district_black_total/district_total) * 100\n",
    "\n",
    "# Cacoluate S+/-\n",
    "district_score = district_pct_black_block - (district_weighted_pct_m_le/district_total)\n",
    "\n",
    "district_score"
   ]
  },
  {
   "cell_type": "code",
   "execution_count": null,
   "metadata": {},
   "outputs": [],
   "source": [
    "# So to calculate S+/- scores in time with a user selecting VTDs, we will need to know these three stats for each VTD:\n",
    "    # the total population of the VTD\n",
    "    # the total minority population of the VTD\n",
    "    # The total (summed) weighted percent of minority population in local evironments \n",
    "# From there we sum these stats for each VTD and calculate the minority percent in the district\n",
    "# Subtract the district weighted percent / district total from the minority district population"
   ]
  }
 ]
}