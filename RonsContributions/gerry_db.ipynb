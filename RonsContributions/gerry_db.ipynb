{
 "cells": [
  {
   "cell_type": "code",
   "execution_count": 259,
   "metadata": {},
   "outputs": [],
   "source": [
    "import gerry_v2 as gerry\n",
    "\n",
    "from importlib import reload; reload(gerry);\n",
    "\n",
    "import numpy as np\n",
    "import pandas as pd \n",
    "import csv\n",
    "from glob import glob"
   ]
  },
  {
   "attachments": {},
   "cell_type": "markdown",
   "metadata": {},
   "source": [
    "### Database"
   ]
  },
  {
   "cell_type": "code",
   "execution_count": 260,
   "metadata": {},
   "outputs": [],
   "source": [
    "# Instantiate a GerryDB object\n",
    "g = gerry.GerryDB()"
   ]
  },
  {
   "cell_type": "code",
   "execution_count": 261,
   "metadata": {},
   "outputs": [],
   "source": [
    "# Create the tPlan table, to store all the simulated plans\n",
    "g.CreatePlanTable()"
   ]
  },
  {
   "cell_type": "code",
   "execution_count": 262,
   "metadata": {},
   "outputs": [],
   "source": [
    "g.CreateScoresTable()"
   ]
  },
  {
   "cell_type": "code",
   "execution_count": 263,
   "metadata": {},
   "outputs": [],
   "source": [
    "g.CreateVTDTable()"
   ]
  },
  {
   "attachments": {},
   "cell_type": "markdown",
   "metadata": {},
   "source": [
    "### Loading Data"
   ]
  },
  {
   "cell_type": "code",
   "execution_count": 264,
   "metadata": {},
   "outputs": [
    {
     "name": "stdout",
     "output_type": "stream",
     "text": [
      "/Users/rebeccawagner/Documents/GitHub/GerryGainMCMC/Output/Chain_02.23/test/RunOne_assignments_1.2_2023-03-01-19-46-21-600787\n",
      "filling table\n",
      "fill function\n",
      "returning fill function\n",
      "/Users/rebeccawagner/Documents/GitHub/GerryGainMCMC/Output/Chain_02.23/test/RunOne_assignments_1_2023-03-01-14-58-44-965042\n",
      "filling table\n",
      "fill function\n",
      "returning fill function\n",
      "committing\n"
     ]
    },
    {
     "data": {
      "text/plain": [
       "True"
      ]
     },
     "execution_count": 264,
     "metadata": {},
     "output_type": "execute_result"
    }
   ],
   "source": [
    "g.LoadPlanFiles('/Users/rebeccawagner/Documents/GitHub/GerryGainMCMC/Output/Chain_02.23/test')"
   ]
  },
  {
   "cell_type": "code",
   "execution_count": 254,
   "metadata": {},
   "outputs": [
    {
     "data": {
      "text/html": [
       "<div>\n",
       "<style scoped>\n",
       "    .dataframe tbody tr th:only-of-type {\n",
       "        vertical-align: middle;\n",
       "    }\n",
       "\n",
       "    .dataframe tbody tr th {\n",
       "        vertical-align: top;\n",
       "    }\n",
       "\n",
       "    .dataframe thead th {\n",
       "        text-align: right;\n",
       "    }\n",
       "</style>\n",
       "<table border=\"1\" class=\"dataframe\">\n",
       "  <thead>\n",
       "    <tr style=\"text-align: right;\">\n",
       "      <th></th>\n",
       "      <th>plan_id</th>\n",
       "      <th>vtd</th>\n",
       "      <th>dist</th>\n",
       "    </tr>\n",
       "  </thead>\n",
       "  <tbody>\n",
       "    <tr>\n",
       "      <th>0</th>\n",
       "      <td>1.2_1</td>\n",
       "      <td>01003000001_01001</td>\n",
       "      <td>1007</td>\n",
       "    </tr>\n",
       "    <tr>\n",
       "      <th>1</th>\n",
       "      <td>1.2_1</td>\n",
       "      <td>01003000002_01001</td>\n",
       "      <td>1007</td>\n",
       "    </tr>\n",
       "    <tr>\n",
       "      <th>2</th>\n",
       "      <td>1.2_1</td>\n",
       "      <td>01003000003_01001</td>\n",
       "      <td>1007</td>\n",
       "    </tr>\n",
       "    <tr>\n",
       "      <th>3</th>\n",
       "      <td>1.2_1</td>\n",
       "      <td>01003000004_01001</td>\n",
       "      <td>1007</td>\n",
       "    </tr>\n",
       "    <tr>\n",
       "      <th>4</th>\n",
       "      <td>1.2_1</td>\n",
       "      <td>01003000005_01001</td>\n",
       "      <td>1007</td>\n",
       "    </tr>\n",
       "    <tr>\n",
       "      <th>...</th>\n",
       "      <td>...</td>\n",
       "      <td>...</td>\n",
       "      <td>...</td>\n",
       "    </tr>\n",
       "    <tr>\n",
       "      <th>7375995</th>\n",
       "      <td>1_2000</td>\n",
       "      <td>01131005006_01007</td>\n",
       "      <td>1002</td>\n",
       "    </tr>\n",
       "    <tr>\n",
       "      <th>7375996</th>\n",
       "      <td>1_2000</td>\n",
       "      <td>01131006001_01007</td>\n",
       "      <td>1002</td>\n",
       "    </tr>\n",
       "    <tr>\n",
       "      <th>7375997</th>\n",
       "      <td>1_2000</td>\n",
       "      <td>01131006002_01007</td>\n",
       "      <td>1002</td>\n",
       "    </tr>\n",
       "    <tr>\n",
       "      <th>7375998</th>\n",
       "      <td>1_2000</td>\n",
       "      <td>01131006004_01007</td>\n",
       "      <td>1002</td>\n",
       "    </tr>\n",
       "    <tr>\n",
       "      <th>7375999</th>\n",
       "      <td>1_2000</td>\n",
       "      <td>01131006005_01007</td>\n",
       "      <td>1002</td>\n",
       "    </tr>\n",
       "  </tbody>\n",
       "</table>\n",
       "<p>7376000 rows × 3 columns</p>\n",
       "</div>"
      ],
      "text/plain": [
       "        plan_id                vtd  dist\n",
       "0         1.2_1  01003000001_01001  1007\n",
       "1         1.2_1  01003000002_01001  1007\n",
       "2         1.2_1  01003000003_01001  1007\n",
       "3         1.2_1  01003000004_01001  1007\n",
       "4         1.2_1  01003000005_01001  1007\n",
       "...         ...                ...   ...\n",
       "7375995  1_2000  01131005006_01007  1002\n",
       "7375996  1_2000  01131006001_01007  1002\n",
       "7375997  1_2000  01131006002_01007  1002\n",
       "7375998  1_2000  01131006004_01007  1002\n",
       "7375999  1_2000  01131006005_01007  1002\n",
       "\n",
       "[7376000 rows x 3 columns]"
      ]
     },
     "execution_count": 254,
     "metadata": {},
     "output_type": "execute_result"
    }
   ],
   "source": [
    "g.RunQuery(\"\"\"SELECT * FROM tPlan;\"\"\")"
   ]
  },
  {
   "cell_type": "code",
   "execution_count": 257,
   "metadata": {},
   "outputs": [],
   "source": [
    "file = '/Users/rebeccawagner/Documents/GitHub/GerryGainMCMC/Output/Chain_02.23/test_2/RunOne_segregation_1_2023-03-01-15-00-35-598748'"
   ]
  },
  {
   "cell_type": "code",
   "execution_count": 258,
   "metadata": {},
   "outputs": [
    {
     "data": {
      "text/html": [
       "<div>\n",
       "<style scoped>\n",
       "    .dataframe tbody tr th:only-of-type {\n",
       "        vertical-align: middle;\n",
       "    }\n",
       "\n",
       "    .dataframe tbody tr th {\n",
       "        vertical-align: top;\n",
       "    }\n",
       "\n",
       "    .dataframe thead th {\n",
       "        text-align: right;\n",
       "    }\n",
       "</style>\n",
       "<table border=\"1\" class=\"dataframe\">\n",
       "  <thead>\n",
       "    <tr style=\"text-align: right;\">\n",
       "      <th></th>\n",
       "      <th>plan_id</th>\n",
       "      <th>dist</th>\n",
       "      <th>seg_score</th>\n",
       "      <th>dist_index</th>\n",
       "    </tr>\n",
       "  </thead>\n",
       "  <tbody>\n",
       "    <tr>\n",
       "      <th>0</th>\n",
       "      <td>1_1</td>\n",
       "      <td>1001</td>\n",
       "      <td>-0.449858</td>\n",
       "      <td>1005</td>\n",
       "    </tr>\n",
       "    <tr>\n",
       "      <th>1</th>\n",
       "      <td>1_2</td>\n",
       "      <td>1001</td>\n",
       "      <td>18.550356</td>\n",
       "      <td>1007</td>\n",
       "    </tr>\n",
       "    <tr>\n",
       "      <th>2</th>\n",
       "      <td>1_3</td>\n",
       "      <td>1001</td>\n",
       "      <td>18.550356</td>\n",
       "      <td>1007</td>\n",
       "    </tr>\n",
       "    <tr>\n",
       "      <th>3</th>\n",
       "      <td>1_4</td>\n",
       "      <td>1001</td>\n",
       "      <td>18.550356</td>\n",
       "      <td>1007</td>\n",
       "    </tr>\n",
       "    <tr>\n",
       "      <th>4</th>\n",
       "      <td>1_5</td>\n",
       "      <td>1001</td>\n",
       "      <td>18.550356</td>\n",
       "      <td>1007</td>\n",
       "    </tr>\n",
       "    <tr>\n",
       "      <th>...</th>\n",
       "      <td>...</td>\n",
       "      <td>...</td>\n",
       "      <td>...</td>\n",
       "      <td>...</td>\n",
       "    </tr>\n",
       "    <tr>\n",
       "      <th>13995</th>\n",
       "      <td>1_1996</td>\n",
       "      <td>1007</td>\n",
       "      <td>-0.450059</td>\n",
       "      <td>1005</td>\n",
       "    </tr>\n",
       "    <tr>\n",
       "      <th>13996</th>\n",
       "      <td>1_1997</td>\n",
       "      <td>1007</td>\n",
       "      <td>-0.450059</td>\n",
       "      <td>1005</td>\n",
       "    </tr>\n",
       "    <tr>\n",
       "      <th>13997</th>\n",
       "      <td>1_1998</td>\n",
       "      <td>1007</td>\n",
       "      <td>-0.450059</td>\n",
       "      <td>1005</td>\n",
       "    </tr>\n",
       "    <tr>\n",
       "      <th>13998</th>\n",
       "      <td>1_1999</td>\n",
       "      <td>1007</td>\n",
       "      <td>-0.450059</td>\n",
       "      <td>1005</td>\n",
       "    </tr>\n",
       "    <tr>\n",
       "      <th>13999</th>\n",
       "      <td>1_2000</td>\n",
       "      <td>1007</td>\n",
       "      <td>-0.450059</td>\n",
       "      <td>1005</td>\n",
       "    </tr>\n",
       "  </tbody>\n",
       "</table>\n",
       "<p>14000 rows × 4 columns</p>\n",
       "</div>"
      ],
      "text/plain": [
       "      plan_id  dist  seg_score dist_index\n",
       "0         1_1  1001  -0.449858       1005\n",
       "1         1_2  1001  18.550356       1007\n",
       "2         1_3  1001  18.550356       1007\n",
       "3         1_4  1001  18.550356       1007\n",
       "4         1_5  1001  18.550356       1007\n",
       "...       ...   ...        ...        ...\n",
       "13995  1_1996  1007  -0.450059       1005\n",
       "13996  1_1997  1007  -0.450059       1005\n",
       "13997  1_1998  1007  -0.450059       1005\n",
       "13998  1_1999  1007  -0.450059       1005\n",
       "13999  1_2000  1007  -0.450059       1005\n",
       "\n",
       "[14000 rows x 4 columns]"
      ]
     },
     "execution_count": 258,
     "metadata": {},
     "output_type": "execute_result"
    }
   ],
   "source": [
    "g.PrepScores(file)"
   ]
  },
  {
   "cell_type": "code",
   "execution_count": 266,
   "metadata": {},
   "outputs": [
    {
     "name": "stdout",
     "output_type": "stream",
     "text": [
      "fill function\n",
      "returning fill function\n"
     ]
    },
    {
     "data": {
      "text/plain": [
       "True"
      ]
     },
     "execution_count": 266,
     "metadata": {},
     "output_type": "execute_result"
    }
   ],
   "source": [
    "g.LoadScoreFiles('/Users/rebeccawagner/Documents/GitHub/GerryGainMCMC/Output/Chain_02.23/test_2') "
   ]
  },
  {
   "cell_type": "code",
   "execution_count": 267,
   "metadata": {},
   "outputs": [
    {
     "data": {
      "text/html": [
       "<div>\n",
       "<style scoped>\n",
       "    .dataframe tbody tr th:only-of-type {\n",
       "        vertical-align: middle;\n",
       "    }\n",
       "\n",
       "    .dataframe tbody tr th {\n",
       "        vertical-align: top;\n",
       "    }\n",
       "\n",
       "    .dataframe thead th {\n",
       "        text-align: right;\n",
       "    }\n",
       "</style>\n",
       "<table border=\"1\" class=\"dataframe\">\n",
       "  <thead>\n",
       "    <tr style=\"text-align: right;\">\n",
       "      <th></th>\n",
       "      <th>plan_id</th>\n",
       "      <th>dist</th>\n",
       "      <th>dist_index</th>\n",
       "      <th>seg_score</th>\n",
       "    </tr>\n",
       "  </thead>\n",
       "  <tbody>\n",
       "    <tr>\n",
       "      <th>0</th>\n",
       "      <td>1_1</td>\n",
       "      <td>1001</td>\n",
       "      <td>1005</td>\n",
       "      <td>-0.449858</td>\n",
       "    </tr>\n",
       "    <tr>\n",
       "      <th>1</th>\n",
       "      <td>1_2</td>\n",
       "      <td>1001</td>\n",
       "      <td>1007</td>\n",
       "      <td>18.550356</td>\n",
       "    </tr>\n",
       "    <tr>\n",
       "      <th>2</th>\n",
       "      <td>1_3</td>\n",
       "      <td>1001</td>\n",
       "      <td>1007</td>\n",
       "      <td>18.550356</td>\n",
       "    </tr>\n",
       "    <tr>\n",
       "      <th>3</th>\n",
       "      <td>1_4</td>\n",
       "      <td>1001</td>\n",
       "      <td>1007</td>\n",
       "      <td>18.550356</td>\n",
       "    </tr>\n",
       "    <tr>\n",
       "      <th>4</th>\n",
       "      <td>1_5</td>\n",
       "      <td>1001</td>\n",
       "      <td>1007</td>\n",
       "      <td>18.550356</td>\n",
       "    </tr>\n",
       "    <tr>\n",
       "      <th>...</th>\n",
       "      <td>...</td>\n",
       "      <td>...</td>\n",
       "      <td>...</td>\n",
       "      <td>...</td>\n",
       "    </tr>\n",
       "    <tr>\n",
       "      <th>27995</th>\n",
       "      <td>1_1996</td>\n",
       "      <td>1007</td>\n",
       "      <td>1005</td>\n",
       "      <td>-0.450059</td>\n",
       "    </tr>\n",
       "    <tr>\n",
       "      <th>27996</th>\n",
       "      <td>1_1997</td>\n",
       "      <td>1007</td>\n",
       "      <td>1005</td>\n",
       "      <td>-0.450059</td>\n",
       "    </tr>\n",
       "    <tr>\n",
       "      <th>27997</th>\n",
       "      <td>1_1998</td>\n",
       "      <td>1007</td>\n",
       "      <td>1005</td>\n",
       "      <td>-0.450059</td>\n",
       "    </tr>\n",
       "    <tr>\n",
       "      <th>27998</th>\n",
       "      <td>1_1999</td>\n",
       "      <td>1007</td>\n",
       "      <td>1005</td>\n",
       "      <td>-0.450059</td>\n",
       "    </tr>\n",
       "    <tr>\n",
       "      <th>27999</th>\n",
       "      <td>1_2000</td>\n",
       "      <td>1007</td>\n",
       "      <td>1005</td>\n",
       "      <td>-0.450059</td>\n",
       "    </tr>\n",
       "  </tbody>\n",
       "</table>\n",
       "<p>28000 rows × 4 columns</p>\n",
       "</div>"
      ],
      "text/plain": [
       "      plan_id  dist  dist_index  seg_score\n",
       "0         1_1  1001        1005  -0.449858\n",
       "1         1_2  1001        1007  18.550356\n",
       "2         1_3  1001        1007  18.550356\n",
       "3         1_4  1001        1007  18.550356\n",
       "4         1_5  1001        1007  18.550356\n",
       "...       ...   ...         ...        ...\n",
       "27995  1_1996  1007        1005  -0.450059\n",
       "27996  1_1997  1007        1005  -0.450059\n",
       "27997  1_1998  1007        1005  -0.450059\n",
       "27998  1_1999  1007        1005  -0.450059\n",
       "27999  1_2000  1007        1005  -0.450059\n",
       "\n",
       "[28000 rows x 4 columns]"
      ]
     },
     "execution_count": 267,
     "metadata": {},
     "output_type": "execute_result"
    }
   ],
   "source": [
    "g.RunQuery(\"\"\"SELECT * FROM tScores;\"\"\")"
   ]
  }
 ],
 "metadata": {
  "kernelspec": {
   "display_name": "gerry",
   "language": "python",
   "name": "python3"
  },
  "language_info": {
   "codemirror_mode": {
    "name": "ipython",
    "version": 3
   },
   "file_extension": ".py",
   "mimetype": "text/x-python",
   "name": "python",
   "nbconvert_exporter": "python",
   "pygments_lexer": "ipython3",
   "version": "3.10.6"
  },
  "orig_nbformat": 4
 },
 "nbformat": 4,
 "nbformat_minor": 2
}
