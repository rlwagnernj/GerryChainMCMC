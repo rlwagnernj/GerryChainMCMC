{
 "cells": [
  {
   "cell_type": "code",
   "execution_count": 1,
   "metadata": {},
   "outputs": [],
   "source": [
    "def GetVTDLocalEnv(Block_LE_Data,Block_to_Vtd,save=False,save_path=''):\n",
    "    \"\"\"Get the local environment data necessary for calculating S+/- scores on VTDs\n",
    "        block_LE_data = string path to csv file local environment blocks for the state\n",
    "        block_to_vtd = string path to csv file mapping blocks to vtds\n",
    "        set save = True to save as cvs file to local device\n",
    "        set save path as string\"\"\"\n",
    "    \n",
    "    # import libraries\n",
    "    import pandas as pd\n",
    "\n",
    "    # get block to VTD mapping\n",
    "    block_to_vtd = pd.read_csv(Block_to_Vtd)[[\"GEOID20\",\"block_vtda\"]] # keep only necessary columns\n",
    "    block_to_vtd[\"GEOID20\"] = block_to_vtd[\"GEOID20\"].astype(str) # cast type for merging \n",
    "\n",
    "    # local environment data for block\n",
    "    block_le_data = pd.read_csv(Block_LE_Data, dtype={'block_geoid_start':str})\n",
    "\n",
    "    # merge dataframes\n",
    "    merged_df = block_to_vtd.merge(right=block_le_data, left_on='GEOID20', right_on='block_geoid_start').drop(columns=[\"block_geoid_start\"])\n",
    "    #merged_df[[\"GEOID20\",\"block_vtda\",\"rn_total_sl_dist\",\"rn_nh_black_sl_dist\",\"total\",\"nh_black\"]]\n",
    "\n",
    "    # make new columns for S+/- calculations\n",
    "    merged_df[\"pct_blk_sl_dist\"] = merged_df[\"rn_nh_black_sl_dist\"]/merged_df[\"rn_total_sl_dist\"] * 100\n",
    "    merged_df[\"weighted_blk_sl_dist\"] = merged_df[\"pct_blk_sl_dist\"] * merged_df[\"total\"]\n",
    "\n",
    "    # Sum columns for each VTD\n",
    "    final_df = merged_df.groupby(by=\"block_vtda\",as_index=False).sum()[[\"block_vtda\",\"total\",\"nh_black\",\"weighted_blk_sl_dist\"]]\n",
    "\n",
    "    # save as csv if required\n",
    "    if save is True:\n",
    "        final_df.to_csv(path_or_buf=save_path)\n",
    "\n",
    "    # return \n",
    "    return final_df"
   ]
  },
  {
   "cell_type": "code",
   "execution_count": 2,
   "metadata": {},
   "outputs": [],
   "source": [
    "def CalculateSegregation(data_file_path='',vtds=[]):\n",
    "    \"\"\"Calculate the S+/- score for a selection of vtds\n",
    "    data_file_path must include aggregated local environment data for the vtds\n",
    "    vtds is a list of vtd id numbers\"\"\"\n",
    "\n",
    "    import pandas as pd\n",
    "\n",
    "    vtd_data = pd.read_csv(data_file_path)\n",
    "\n",
    "    district_data = vtd_data[vtd_data['block_vtda'].isin(vtds)]\n",
    "\n",
    "    total_population = district_data['total'].sum()\n",
    "    total_weighted = district_data['weighted_blk_sl_dist'].sum()\n",
    "    pct_black_district = district_data['nh_black'].sum() / total_population * 100 \n",
    "\n",
    "    seg_score = pct_black_district - (total_weighted/total_population)\n",
    "\n",
    "    return seg_score"
   ]
  }
 ],
 "metadata": {
  "kernelspec": {
   "display_name": "Python 3.10.6 ('gerry')",
   "language": "python",
   "name": "python3"
  },
  "language_info": {
   "codemirror_mode": {
    "name": "ipython",
    "version": 3
   },
   "file_extension": ".py",
   "mimetype": "text/x-python",
   "name": "python",
   "nbconvert_exporter": "python",
   "pygments_lexer": "ipython3",
   "version": "3.10.6"
  },
  "orig_nbformat": 4,
  "vscode": {
   "interpreter": {
    "hash": "490c0a39a4dd3df29f486b863cd658d9baeb3f977e83207532ec1f0044a62912"
   }
  }
 },
 "nbformat": 4,
 "nbformat_minor": 2
}
